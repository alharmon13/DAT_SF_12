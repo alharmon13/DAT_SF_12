{
 "metadata": {
  "name": "",
  "signature": "sha256:7d321d333c7e547dbafb70b722a92078ae416b732f8aac4cd7cf9fe591656d63"
 },
 "nbformat": 3,
 "nbformat_minor": 0,
 "worksheets": [
  {
   "cells": [
    {
     "cell_type": "markdown",
     "metadata": {},
     "source": [
      "## Homework 2 (Due - Feb'17th) - practice Supervised (KNN) and Un-Supervised (Clustering):\n",
      "\n",
      "Follow the steps below to:\n",
      "    - Read `wine.csv` in the data folder.\n",
      "    - We are going to use this dataset to practice Supervised (KNN) and Un-Supervised (Clustering)\n",
      "    \n",
      "### Supervised (KNN)\n",
      "\n",
      "    - Split the data into Train and Test (30%) using random_state of 42 (so that we all get same results)\n",
      "    - Using KNN, can you predict the Wine class in test\n",
      "    - How Accurate is your prediction\n",
      "    \n",
      "### Un-Supervised (Clustering)\n",
      "    - The First Column contains the Wine Category.  Don't use it in the models below.  We are going to treat it as unsupervized learning and compare the results to the Wine column.\n",
      "    - Try `KMeans` where `n_clusters = 3` and compare the clusters to the `Wine` column.\n",
      "    - Try `Hierarchical Clustering` and plot dendogram\n",
      "    - Compare the results of `KMeans` with that of Wine Column.  Is Clustering identifying the Wine groups correctly? \n",
      "\n",
      "Note that the Wine group codes will not match between Clustering and Wine Category.  What we are looking for is does all the wines in the cluster fall into the same Wine Category)."
     ]
    },
    {
     "cell_type": "code",
     "collapsed": false,
     "input": [
      "## Read `wine.csv` in the data folder."
     ],
     "language": "python",
     "metadata": {},
     "outputs": []
    },
    {
     "cell_type": "code",
     "collapsed": false,
     "input": [
      "%matplotlib inline\n",
      "\n",
      "import numpy as np\n",
      "import pandas as pd\n",
      "import sklearn.datasets as datasets\n",
      "\n",
      "from seaborn import plt, color_palette\n",
      "from sklearn.preprocessing import scale"
     ],
     "language": "python",
     "metadata": {},
     "outputs": [],
     "prompt_number": 4
    },
    {
     "cell_type": "code",
     "collapsed": false,
     "input": [
      "samsungData = pd.read_csv('/users/alisonharmon/desktop/dat_sf_12/data/samsungData.csv')"
     ],
     "language": "python",
     "metadata": {},
     "outputs": [],
     "prompt_number": 11
    },
    {
     "cell_type": "code",
     "collapsed": false,
     "input": [],
     "language": "python",
     "metadata": {},
     "outputs": []
    },
    {
     "cell_type": "code",
     "collapsed": false,
     "input": [],
     "language": "python",
     "metadata": {},
     "outputs": []
    },
    {
     "cell_type": "code",
     "collapsed": false,
     "input": [],
     "language": "python",
     "metadata": {},
     "outputs": []
    },
    {
     "cell_type": "code",
     "collapsed": false,
     "input": [],
     "language": "python",
     "metadata": {},
     "outputs": []
    },
    {
     "cell_type": "code",
     "collapsed": false,
     "input": [],
     "language": "python",
     "metadata": {},
     "outputs": []
    },
    {
     "cell_type": "code",
     "collapsed": false,
     "input": [],
     "language": "python",
     "metadata": {},
     "outputs": []
    },
    {
     "cell_type": "code",
     "collapsed": false,
     "input": [],
     "language": "python",
     "metadata": {},
     "outputs": []
    },
    {
     "cell_type": "code",
     "collapsed": false,
     "input": [],
     "language": "python",
     "metadata": {},
     "outputs": []
    },
    {
     "cell_type": "code",
     "collapsed": false,
     "input": [],
     "language": "python",
     "metadata": {},
     "outputs": []
    },
    {
     "cell_type": "code",
     "collapsed": false,
     "input": [],
     "language": "python",
     "metadata": {},
     "outputs": []
    },
    {
     "cell_type": "code",
     "collapsed": false,
     "input": [],
     "language": "python",
     "metadata": {},
     "outputs": []
    }
   ],
   "metadata": {}
  }
 ]
}