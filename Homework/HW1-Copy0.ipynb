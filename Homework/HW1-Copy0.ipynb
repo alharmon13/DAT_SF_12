{
 "metadata": {
  "name": "",
  "signature": "sha256:42fca2dfddb5928e463e752754ba3bdfe00de55f76238e2c2cb1dcbcd335950e"
 },
 "nbformat": 3,
 "nbformat_minor": 0,
 "worksheets": [
  {
   "cells": [
    {
     "cell_type": "markdown",
     "metadata": {},
     "source": [
      "#HW 1 \n",
      "\n",
      "##In this homework, you will be using concepts from the SQL lecture and APIs to explroe a dataset and make some basic queries. "
     ]
    },
    {
     "cell_type": "code",
     "collapsed": false,
     "input": [
      "# standard library:\n",
      "import os  \n",
      "\n",
      "from pprint import pprint\n",
      "\n",
      "# Import Pandas, Numpy, Matplotlib, and Sqlite3\n",
      "import pandas as pd\n",
      "import numpy as np\n",
      "import matplotlib.pyplot as plt\n",
      "import sqlite3\n",
      "\n",
      "from pymongo import MongoClient\n",
      "\n",
      "# This enables inline Plots\n",
      "%matplotlib inline\n",
      "\n",
      "# Limit rows displayed in notebook\n",
      "pd.set_option('display.max_rows', 10)\n",
      "pd.set_option('display.precision', 2)"
     ],
     "language": "python",
     "metadata": {},
     "outputs": [],
     "prompt_number": 58
    },
    {
     "cell_type": "markdown",
     "metadata": {},
     "source": [
      "#### 1. Connect to the SF.Gov API and pull data from the 311 Table\n",
      "https://data.sfgov.org/City-Infrastructure/Case-Data-from-San-Francisco-311-SF311-/vw6y-z8j6\n",
      "\n",
      "* 311 data contains over 1.1 Million rows in total. For this exercise, we are only looking to pull the FIRST 1000 rows\n",
      "\n",
      "Note: To get more data than 1000 rows, you may need to sign up for an app token to avoid throttling limits\n",
      "http://dev.socrata.com/foundry/#/data.sfgov.org/vw6y-z8j6\n",
      "\n",
      "We don't need this for the exercise, but something to keep in mind as you work with external APIs"
     ]
    },
    {
     "cell_type": "code",
     "collapsed": false,
     "input": [
      "# This will get you the first 1000 rows to get started with the rest of the questions\n",
      "import json\n",
      "import urllib\n",
      "\n",
      "url = \"https://data.sfgov.org/resource/vw6y-z8j6.json?$$app_token=XwWCV3oaC5nayRgZh0EzJZQPl\"\n",
      "data = json.load(urllib.urlopen(url))"
     ],
     "language": "python",
     "metadata": {},
     "outputs": [],
     "prompt_number": 59
    },
    {
     "cell_type": "code",
     "collapsed": false,
     "input": [
      "pprint(data[0])"
     ],
     "language": "python",
     "metadata": {},
     "outputs": [
      {
       "output_type": "stream",
       "stream": "stdout",
       "text": [
        "{u'address': u'Intersection of 21ST ST and CAPP ST',\n",
        " u'case_id': u'322571',\n",
        " u'category': u'General Requests',\n",
        " u'closed': u'2008-12-01T15:19:00',\n",
        " u'neighborhood': u'Mission',\n",
        " u'opened': u'2008-11-30T23:53:00',\n",
        " u'point': {u'latitude': u'37.7571008516766',\n",
        "            u'longitude': u'-122.417811874214',\n",
        "            u'needs_recoding': False},\n",
        " u'request_details': u'puc - electric - request_for_service',\n",
        " u'request_type': u'puc - electric - request_for_service',\n",
        " u'responsible_agency': u'PUC - Electric/Power - G',\n",
        " u'source': u'Voice In',\n",
        " u'status': u'Closed',\n",
        " u'supervisor_district': u'9',\n",
        " u'updated': u'2008-12-01T15:19:00'}\n"
       ]
      }
     ],
     "prompt_number": 60
    },
    {
     "cell_type": "markdown",
     "metadata": {},
     "source": [
      "#### 2. How many elements are there in the JSON file? "
     ]
    },
    {
     "cell_type": "code",
     "collapsed": false,
     "input": [
      "pprint(len(data[0]))\n",
      "#Object.keys(data).length"
     ],
     "language": "python",
     "metadata": {},
     "outputs": [
      {
       "output_type": "stream",
       "stream": "stdout",
       "text": [
        "14\n"
       ]
      }
     ],
     "prompt_number": 61
    },
    {
     "cell_type": "markdown",
     "metadata": {},
     "source": [
      "#### Display the length of the JSON object and display the elements contained in one of the items of the JSON file? "
     ]
    },
    {
     "cell_type": "code",
     "collapsed": false,
     "input": [
      "length = len(data)\n",
      "print length\n",
      "\n",
      "pprint(data[500])\n",
      "pprint(len(data[500]))"
     ],
     "language": "python",
     "metadata": {},
     "outputs": [
      {
       "output_type": "stream",
       "stream": "stdout",
       "text": [
        "1000\n",
        "{u'address': u'1050 LARKIN ST, SAN FRANCISCO, CA, 94109',\n",
        " u'case_id': u'321791',\n",
        " u'category': u'Graffiti Private Property',\n",
        " u'closed': u'2008-12-08T07:07:00',\n",
        " u'neighborhood': u'Downtown/Civic Center',\n",
        " u'opened': u'2008-11-28T13:45:00',\n",
        " u'point': {u'latitude': u'37.787600550379',\n",
        "            u'longitude': u'-122.41831842594',\n",
        "            u'needs_recoding': False},\n",
        " u'request_details': u'Building_commercial - Offensive',\n",
        " u'request_type': u'Offensive Graffiti on Private Property',\n",
        " u'responsible_agency': u'DPW Ops Queue',\n",
        " u'source': u'Voice In',\n",
        " u'status': u'Closed',\n",
        " u'supervisor_district': u'3',\n",
        " u'updated': u'2008-12-08T07:07:00'}\n",
        "14\n"
       ]
      }
     ],
     "prompt_number": 62
    },
    {
     "cell_type": "markdown",
     "metadata": {},
     "source": [
      "####3. Use Pandas \"Read JSON\" functionality to turn the 311 data into a Pandas Dataframe and display the first 20 rows\n"
     ]
    },
    {
     "cell_type": "code",
     "collapsed": false,
     "input": [
      "df = pd.read_json('https://data.sfgov.org/resource/vw6y-z8j6.json?$$app_token=XwWCV3oaC5nayRgZh0EzJZQPl')\n",
      "print df[:20]"
     ],
     "language": "python",
     "metadata": {},
     "outputs": [
      {
       "output_type": "stream",
       "stream": "stdout",
       "text": [
        "                                       address  case_id  \\\n",
        "0          Intersection of 21ST ST and CAPP ST   322571   \n",
        "1     Intersection of BUSH ST and VAN NESS AVE   322568   \n",
        "2   Intersection of EUCLID AVE and MASONIC AVE   322567   \n",
        "3       1566 HYDE ST, SAN FRANCISCO, CA, 94109   322566   \n",
        "4      GGP Panhandle, SAN FRANCISCO, CA, 94117   322565   \n",
        "..                                         ...      ...   \n",
        "15      Intersection of 19TH ST and OAKWOOD ST   322545   \n",
        "16       Intersection of 18TH ST and BRYANT ST   322544   \n",
        "17      Intersection of 18TH ST and OAKWOOD ST   322543   \n",
        "18     1444 HAYES ST, SAN FRANCISCO, CA, 94117   322542   \n",
        "19   3216 MISSION ST, SAN FRANCISCO, CA, 94110   322541   \n",
        "\n",
        "                        category               closed      neighborhood  \\\n",
        "0               General Requests  2008-12-01T15:19:00           Mission   \n",
        "1               Illegal Postings  2009-07-21T16:24:00          Nob Hill   \n",
        "2               Illegal Postings  2008-12-27T06:07:00  Western Addition   \n",
        "3   Street and Sidewalk Cleaning  2009-07-21T16:24:00          Nob Hill   \n",
        "4          Rec and Park Requests  2008-12-13T10:50:00    Haight Ashbury   \n",
        "..                           ...                  ...               ...   \n",
        "15  Street and Sidewalk Cleaning  2009-02-03T07:09:00           Mission   \n",
        "16  Street and Sidewalk Cleaning  2009-07-21T16:24:00           Mission   \n",
        "17  Street and Sidewalk Cleaning  2009-02-03T07:09:00           Mission   \n",
        "18                Street Defects  2009-07-21T16:24:00    Haight Ashbury   \n",
        "19                Street Defects  2008-12-04T12:07:00    Bernal Heights   \n",
        "\n",
        "                 opened                                              point  \\\n",
        "0   2008-11-30T23:53:00  {u'latitude': u'37.7571008516766', u'needs_rec...   \n",
        "1   2008-11-30T23:13:00  {u'latitude': u'37.7884895281133', u'needs_rec...   \n",
        "2   2008-11-30T23:07:00  {u'latitude': u'37.7850837365507', u'needs_rec...   \n",
        "3   2008-11-30T22:56:00  {u'latitude': u'37.795328529', u'needs_recodin...   \n",
        "4   2008-11-30T22:46:00  {u'latitude': u'37.772204762', u'needs_recodin...   \n",
        "..                  ...                                                ...   \n",
        "15  2008-11-30T20:45:00  {u'latitude': u'37.7598935230725', u'needs_rec...   \n",
        "16  2008-11-30T20:43:00  {u'latitude': u'37.7617593060454', u'needs_rec...   \n",
        "17  2008-11-30T20:43:00  {u'latitude': u'37.7614912395117', u'needs_rec...   \n",
        "18  2008-11-30T20:43:00  {u'latitude': u'37.774792012', u'needs_recodin...   \n",
        "19  2008-11-30T20:41:00  {u'latitude': u'37.745166174982', u'needs_reco...   \n",
        "\n",
        "                          request_details  \\\n",
        "0    puc - electric - request_for_service   \n",
        "1   Posting_Too_Large_in_Size on Sidewalk   \n",
        "2          Affixed_Improperly on Sidewalk   \n",
        "3                                 Garbage   \n",
        "4                                   Other   \n",
        "..                                    ...   \n",
        "15                             Empty_cart   \n",
        "16                              Furniture   \n",
        "17                                Garbage   \n",
        "18                        Pavement_Defect   \n",
        "19                        Pavement_Defect   \n",
        "\n",
        "                                    request_type  \\\n",
        "0           puc - electric - request_for_service   \n",
        "1   Illegal Postings - Posting_Too_Large_in_Size   \n",
        "2          Illegal Postings - Affixed_Improperly   \n",
        "3                              Sidewalk_Cleaning   \n",
        "4                  Park - Structural_Maintenance   \n",
        "..                                           ...   \n",
        "15                             Sidewalk_Cleaning   \n",
        "16                               Illegal_Dumping   \n",
        "17                             Sidewalk_Cleaning   \n",
        "18                               Pavement_Defect   \n",
        "19                               Pavement_Defect   \n",
        "\n",
        "                 responsible_agency    source  status  supervisor_district  \\\n",
        "0          PUC - Electric/Power - G  Voice In  Closed                    9   \n",
        "1                     DPW Ops Queue  Voice In  Closed                    3   \n",
        "2                     DPW Ops Queue  Voice In  Closed                    2   \n",
        "3                     DPW Ops Queue  Voice In  Closed                    3   \n",
        "4   RPD Park Service Area GGP Queue  Voice In  Closed                    5   \n",
        "..                              ...       ...     ...                  ...   \n",
        "15                    DPW Ops Queue  Voice In  Closed                    8   \n",
        "16                    DPW Ops Queue  Voice In  Closed                    9   \n",
        "17                    DPW Ops Queue  Voice In  Closed                    8   \n",
        "18                   DPW BSSR Queue  Voice In  Closed                    5   \n",
        "19                    DPW Ops Queue  Voice In  Closed                    9   \n",
        "\n",
        "                updated  \n",
        "0   2008-12-01T15:19:00  \n",
        "1   2009-07-21T16:24:00  \n",
        "2   2008-12-27T06:07:00  \n",
        "3   2009-07-21T16:24:00  \n",
        "4   2008-12-13T10:50:00  \n",
        "..                  ...  \n",
        "15  2009-02-03T07:09:00  \n",
        "16  2009-07-21T16:24:00  \n",
        "17  2009-02-03T07:09:00  \n",
        "18  2009-07-21T16:24:00  \n",
        "19  2008-12-04T12:07:00  \n",
        "\n",
        "[20 rows x 14 columns]\n"
       ]
      }
     ],
     "prompt_number": 63
    },
    {
     "cell_type": "markdown",
     "metadata": {},
     "source": [
      "####4. How many missing values do we have? "
     ]
    },
    {
     "cell_type": "code",
     "collapsed": false,
     "input": [
      "#print len(df.index)-df.count() these seem to do the same thing\n",
      "#empty = data.apply(lambda col: pd.isnull(col))\n",
      "df.count(axis=0, level=None, numeric_only=False)"
     ],
     "language": "python",
     "metadata": {},
     "outputs": [
      {
       "metadata": {},
       "output_type": "pyout",
       "prompt_number": 64,
       "text": [
        "address     1000\n",
        "case_id     1000\n",
        "category    1000\n",
        "...\n",
        "status                 1000\n",
        "supervisor_district    1000\n",
        "updated                1000\n",
        "Length: 14, dtype: int64"
       ]
      }
     ],
     "prompt_number": 64
    },
    {
     "cell_type": "markdown",
     "metadata": {},
     "source": [
      "####5. Drop the \"point\" feature from the dataframe - its a dictionary, which is unsupported in a flat database"
     ]
    },
    {
     "cell_type": "code",
     "collapsed": false,
     "input": [
      "df = df.drop('point', 1)\n",
      "df"
     ],
     "language": "python",
     "metadata": {},
     "outputs": [
      {
       "html": [
        "<div style=\"max-height:1000px;max-width:1500px;overflow:auto;\">\n",
        "<table border=\"1\" class=\"dataframe\">\n",
        "  <thead>\n",
        "    <tr style=\"text-align: right;\">\n",
        "      <th></th>\n",
        "      <th>address</th>\n",
        "      <th>case_id</th>\n",
        "      <th>category</th>\n",
        "      <th>closed</th>\n",
        "      <th>neighborhood</th>\n",
        "      <th>opened</th>\n",
        "      <th>request_details</th>\n",
        "      <th>request_type</th>\n",
        "      <th>responsible_agency</th>\n",
        "      <th>source</th>\n",
        "      <th>status</th>\n",
        "      <th>supervisor_district</th>\n",
        "      <th>updated</th>\n",
        "    </tr>\n",
        "  </thead>\n",
        "  <tbody>\n",
        "    <tr>\n",
        "      <th>0  </th>\n",
        "      <td>               Intersection of 21ST ST and CAPP ST</td>\n",
        "      <td> 322571</td>\n",
        "      <td>             General Requests</td>\n",
        "      <td> 2008-12-01T15:19:00</td>\n",
        "      <td>          Mission</td>\n",
        "      <td> 2008-11-30T23:53:00</td>\n",
        "      <td>  puc - electric - request_for_service</td>\n",
        "      <td>         puc - electric - request_for_service</td>\n",
        "      <td>        PUC - Electric/Power - G</td>\n",
        "      <td> Voice In</td>\n",
        "      <td> Closed</td>\n",
        "      <td>  9</td>\n",
        "      <td> 2008-12-01T15:19:00</td>\n",
        "    </tr>\n",
        "    <tr>\n",
        "      <th>1  </th>\n",
        "      <td>          Intersection of BUSH ST and VAN NESS AVE</td>\n",
        "      <td> 322568</td>\n",
        "      <td>             Illegal Postings</td>\n",
        "      <td> 2009-07-21T16:24:00</td>\n",
        "      <td>         Nob Hill</td>\n",
        "      <td> 2008-11-30T23:13:00</td>\n",
        "      <td> Posting_Too_Large_in_Size on Sidewalk</td>\n",
        "      <td> Illegal Postings - Posting_Too_Large_in_Size</td>\n",
        "      <td>                   DPW Ops Queue</td>\n",
        "      <td> Voice In</td>\n",
        "      <td> Closed</td>\n",
        "      <td>  3</td>\n",
        "      <td> 2009-07-21T16:24:00</td>\n",
        "    </tr>\n",
        "    <tr>\n",
        "      <th>2  </th>\n",
        "      <td>        Intersection of EUCLID AVE and MASONIC AVE</td>\n",
        "      <td> 322567</td>\n",
        "      <td>             Illegal Postings</td>\n",
        "      <td> 2008-12-27T06:07:00</td>\n",
        "      <td> Western Addition</td>\n",
        "      <td> 2008-11-30T23:07:00</td>\n",
        "      <td>        Affixed_Improperly on Sidewalk</td>\n",
        "      <td>        Illegal Postings - Affixed_Improperly</td>\n",
        "      <td>                   DPW Ops Queue</td>\n",
        "      <td> Voice In</td>\n",
        "      <td> Closed</td>\n",
        "      <td>  2</td>\n",
        "      <td> 2008-12-27T06:07:00</td>\n",
        "    </tr>\n",
        "    <tr>\n",
        "      <th>3  </th>\n",
        "      <td>            1566 HYDE ST, SAN FRANCISCO, CA, 94109</td>\n",
        "      <td> 322566</td>\n",
        "      <td> Street and Sidewalk Cleaning</td>\n",
        "      <td> 2009-07-21T16:24:00</td>\n",
        "      <td>         Nob Hill</td>\n",
        "      <td> 2008-11-30T22:56:00</td>\n",
        "      <td>                               Garbage</td>\n",
        "      <td>                            Sidewalk_Cleaning</td>\n",
        "      <td>                   DPW Ops Queue</td>\n",
        "      <td> Voice In</td>\n",
        "      <td> Closed</td>\n",
        "      <td>  3</td>\n",
        "      <td> 2009-07-21T16:24:00</td>\n",
        "    </tr>\n",
        "    <tr>\n",
        "      <th>4  </th>\n",
        "      <td>           GGP Panhandle, SAN FRANCISCO, CA, 94117</td>\n",
        "      <td> 322565</td>\n",
        "      <td>        Rec and Park Requests</td>\n",
        "      <td> 2008-12-13T10:50:00</td>\n",
        "      <td>   Haight Ashbury</td>\n",
        "      <td> 2008-11-30T22:46:00</td>\n",
        "      <td>                                 Other</td>\n",
        "      <td>                Park - Structural_Maintenance</td>\n",
        "      <td> RPD Park Service Area GGP Queue</td>\n",
        "      <td> Voice In</td>\n",
        "      <td> Closed</td>\n",
        "      <td>  5</td>\n",
        "      <td> 2008-12-13T10:50:00</td>\n",
        "    </tr>\n",
        "    <tr>\n",
        "      <th>...</th>\n",
        "      <td>...</td>\n",
        "      <td>...</td>\n",
        "      <td>...</td>\n",
        "      <td>...</td>\n",
        "      <td>...</td>\n",
        "      <td>...</td>\n",
        "      <td>...</td>\n",
        "      <td>...</td>\n",
        "      <td>...</td>\n",
        "      <td>...</td>\n",
        "      <td>...</td>\n",
        "      <td>...</td>\n",
        "      <td>...</td>\n",
        "    </tr>\n",
        "    <tr>\n",
        "      <th>995</th>\n",
        "      <td> Intersection of CALIFORNIA ST and PARK PRESIDI...</td>\n",
        "      <td> 321060</td>\n",
        "      <td>     Graffiti Public Property</td>\n",
        "      <td> 2008-11-30T08:07:00</td>\n",
        "      <td>   Inner Richmond</td>\n",
        "      <td> 2008-11-26T13:16:00</td>\n",
        "      <td>            Signal_box - Not_Offensive</td>\n",
        "      <td>    Not_Offensive Graffiti on Public Property</td>\n",
        "      <td>                   DPW Ops Queue</td>\n",
        "      <td> Voice In</td>\n",
        "      <td> Closed</td>\n",
        "      <td>  1</td>\n",
        "      <td> 2008-11-30T08:07:00</td>\n",
        "    </tr>\n",
        "    <tr>\n",
        "      <th>996</th>\n",
        "      <td>           Intersection of ANZA ST and FUNSTON AVE</td>\n",
        "      <td> 321058</td>\n",
        "      <td>     Graffiti Public Property</td>\n",
        "      <td> 2008-11-30T08:07:00</td>\n",
        "      <td>   Inner Richmond</td>\n",
        "      <td> 2008-11-26T13:14:00</td>\n",
        "      <td>              Mail_box - Not_Offensive</td>\n",
        "      <td>    Not_Offensive Graffiti on Public Property</td>\n",
        "      <td>                   DPW Ops Queue</td>\n",
        "      <td> Voice In</td>\n",
        "      <td> Closed</td>\n",
        "      <td>  1</td>\n",
        "      <td> 2008-11-30T08:07:00</td>\n",
        "    </tr>\n",
        "    <tr>\n",
        "      <th>997</th>\n",
        "      <td>         115 CAMERON WAY, SAN FRANCISCO, CA, 94124</td>\n",
        "      <td> 321057</td>\n",
        "      <td>                SFHA Requests</td>\n",
        "      <td> 2008-12-09T15:05:00</td>\n",
        "      <td>          Bayview</td>\n",
        "      <td> 2008-11-26T13:13:00</td>\n",
        "      <td>                              Plumbers</td>\n",
        "      <td>                      SFHA Priority - Routine</td>\n",
        "      <td>                 311 HA SR Queue</td>\n",
        "      <td> Voice In</td>\n",
        "      <td> Closed</td>\n",
        "      <td> 10</td>\n",
        "      <td> 2008-12-09T15:05:00</td>\n",
        "    </tr>\n",
        "    <tr>\n",
        "      <th>998</th>\n",
        "      <td>           145 CARMEL ST, SAN FRANCISCO, CA, 94117</td>\n",
        "      <td> 321054</td>\n",
        "      <td> Street and Sidewalk Cleaning</td>\n",
        "      <td> 2008-11-27T06:07:00</td>\n",
        "      <td>   Haight Ashbury</td>\n",
        "      <td> 2008-11-26T13:06:00</td>\n",
        "      <td>                             Furniture</td>\n",
        "      <td>                            Sidewalk_Cleaning</td>\n",
        "      <td>                   DPW Ops Queue</td>\n",
        "      <td> Voice In</td>\n",
        "      <td> Closed</td>\n",
        "      <td>  5</td>\n",
        "      <td> 2008-11-27T06:07:00</td>\n",
        "    </tr>\n",
        "    <tr>\n",
        "      <th>999</th>\n",
        "      <td>         Intersection of HAIGHT ST and MASONIC AVE</td>\n",
        "      <td> 321052</td>\n",
        "      <td> Street and Sidewalk Cleaning</td>\n",
        "      <td> 2008-11-27T06:07:00</td>\n",
        "      <td>   Haight Ashbury</td>\n",
        "      <td> 2008-11-26T13:04:00</td>\n",
        "      <td>                     Sidewalk_Cleaning</td>\n",
        "      <td>                            Sidewalk_Cleaning</td>\n",
        "      <td>                   DPW Ops Queue</td>\n",
        "      <td> Voice In</td>\n",
        "      <td> Closed</td>\n",
        "      <td>  5</td>\n",
        "      <td> 2008-11-27T06:07:00</td>\n",
        "    </tr>\n",
        "  </tbody>\n",
        "</table>\n",
        "<p>1000 rows \u00d7 13 columns</p>\n",
        "</div>"
       ],
       "metadata": {},
       "output_type": "pyout",
       "prompt_number": 65,
       "text": [
        "                                               address  case_id  \\\n",
        "0                  Intersection of 21ST ST and CAPP ST   322571   \n",
        "1             Intersection of BUSH ST and VAN NESS AVE   322568   \n",
        "2           Intersection of EUCLID AVE and MASONIC AVE   322567   \n",
        "3               1566 HYDE ST, SAN FRANCISCO, CA, 94109   322566   \n",
        "4              GGP Panhandle, SAN FRANCISCO, CA, 94117   322565   \n",
        "..                                                 ...      ...   \n",
        "995  Intersection of CALIFORNIA ST and PARK PRESIDI...   321060   \n",
        "996            Intersection of ANZA ST and FUNSTON AVE   321058   \n",
        "997          115 CAMERON WAY, SAN FRANCISCO, CA, 94124   321057   \n",
        "998            145 CARMEL ST, SAN FRANCISCO, CA, 94117   321054   \n",
        "999          Intersection of HAIGHT ST and MASONIC AVE   321052   \n",
        "\n",
        "                         category               closed      neighborhood  \\\n",
        "0                General Requests  2008-12-01T15:19:00           Mission   \n",
        "1                Illegal Postings  2009-07-21T16:24:00          Nob Hill   \n",
        "2                Illegal Postings  2008-12-27T06:07:00  Western Addition   \n",
        "3    Street and Sidewalk Cleaning  2009-07-21T16:24:00          Nob Hill   \n",
        "4           Rec and Park Requests  2008-12-13T10:50:00    Haight Ashbury   \n",
        "..                            ...                  ...               ...   \n",
        "995      Graffiti Public Property  2008-11-30T08:07:00    Inner Richmond   \n",
        "996      Graffiti Public Property  2008-11-30T08:07:00    Inner Richmond   \n",
        "997                 SFHA Requests  2008-12-09T15:05:00           Bayview   \n",
        "998  Street and Sidewalk Cleaning  2008-11-27T06:07:00    Haight Ashbury   \n",
        "999  Street and Sidewalk Cleaning  2008-11-27T06:07:00    Haight Ashbury   \n",
        "\n",
        "                  opened                        request_details  \\\n",
        "0    2008-11-30T23:53:00   puc - electric - request_for_service   \n",
        "1    2008-11-30T23:13:00  Posting_Too_Large_in_Size on Sidewalk   \n",
        "2    2008-11-30T23:07:00         Affixed_Improperly on Sidewalk   \n",
        "3    2008-11-30T22:56:00                                Garbage   \n",
        "4    2008-11-30T22:46:00                                  Other   \n",
        "..                   ...                                    ...   \n",
        "995  2008-11-26T13:16:00             Signal_box - Not_Offensive   \n",
        "996  2008-11-26T13:14:00               Mail_box - Not_Offensive   \n",
        "997  2008-11-26T13:13:00                               Plumbers   \n",
        "998  2008-11-26T13:06:00                              Furniture   \n",
        "999  2008-11-26T13:04:00                      Sidewalk_Cleaning   \n",
        "\n",
        "                                     request_type  \\\n",
        "0            puc - electric - request_for_service   \n",
        "1    Illegal Postings - Posting_Too_Large_in_Size   \n",
        "2           Illegal Postings - Affixed_Improperly   \n",
        "3                               Sidewalk_Cleaning   \n",
        "4                   Park - Structural_Maintenance   \n",
        "..                                            ...   \n",
        "995     Not_Offensive Graffiti on Public Property   \n",
        "996     Not_Offensive Graffiti on Public Property   \n",
        "997                       SFHA Priority - Routine   \n",
        "998                             Sidewalk_Cleaning   \n",
        "999                             Sidewalk_Cleaning   \n",
        "\n",
        "                  responsible_agency    source  status  supervisor_district  \\\n",
        "0           PUC - Electric/Power - G  Voice In  Closed                    9   \n",
        "1                      DPW Ops Queue  Voice In  Closed                    3   \n",
        "2                      DPW Ops Queue  Voice In  Closed                    2   \n",
        "3                      DPW Ops Queue  Voice In  Closed                    3   \n",
        "4    RPD Park Service Area GGP Queue  Voice In  Closed                    5   \n",
        "..                               ...       ...     ...                  ...   \n",
        "995                    DPW Ops Queue  Voice In  Closed                    1   \n",
        "996                    DPW Ops Queue  Voice In  Closed                    1   \n",
        "997                  311 HA SR Queue  Voice In  Closed                   10   \n",
        "998                    DPW Ops Queue  Voice In  Closed                    5   \n",
        "999                    DPW Ops Queue  Voice In  Closed                    5   \n",
        "\n",
        "                 updated  \n",
        "0    2008-12-01T15:19:00  \n",
        "1    2009-07-21T16:24:00  \n",
        "2    2008-12-27T06:07:00  \n",
        "3    2009-07-21T16:24:00  \n",
        "4    2008-12-13T10:50:00  \n",
        "..                   ...  \n",
        "995  2008-11-30T08:07:00  \n",
        "996  2008-11-30T08:07:00  \n",
        "997  2008-12-09T15:05:00  \n",
        "998  2008-11-27T06:07:00  \n",
        "999  2008-11-27T06:07:00  \n",
        "\n",
        "[1000 rows x 13 columns]"
       ]
      }
     ],
     "prompt_number": 65
    },
    {
     "cell_type": "markdown",
     "metadata": {},
     "source": [
      "####5. Turn the 311 data into a database. You can use the pandas read_sql command (example [here)]('http://bit.ly/1EoP81v') or the db package from yHat to do this. "
     ]
    },
    {
     "cell_type": "code",
     "collapsed": false,
     "input": [
      "c = MongoClient()\n",
      "db = c.HWone\n",
      "hw_one = db.stuff.insert(data)\n",
      "hw_one[:5]"
     ],
     "language": "python",
     "metadata": {},
     "outputs": [
      {
       "metadata": {},
       "output_type": "pyout",
       "prompt_number": 66,
       "text": [
        "[ObjectId('54c9bc94a5c21f04dfc12bfd'),\n",
        " ObjectId('54c9bc94a5c21f04dfc12bfe'),\n",
        " ObjectId('54c9bc94a5c21f04dfc12bff'),\n",
        " ObjectId('54c9bc94a5c21f04dfc12c00'),\n",
        " ObjectId('54c9bc94a5c21f04dfc12c01')]"
       ]
      }
     ],
     "prompt_number": 66
    },
    {
     "cell_type": "code",
     "collapsed": false,
     "input": [
      "conn = sqlite3.connect('db')\n",
      "df = pd.read_sql(\"SELECT * from hw_one\", con)\n",
      "df"
     ],
     "language": "python",
     "metadata": {},
     "outputs": [
      {
       "ename": "DatabaseError",
       "evalue": "Execution failed on sql 'SELECT * from hw_one': no such table: hw_one",
       "output_type": "pyerr",
       "traceback": [
        "\u001b[0;31m---------------------------------------------------------------------------\u001b[0m\n\u001b[0;31mDatabaseError\u001b[0m                             Traceback (most recent call last)",
        "\u001b[0;32m<ipython-input-80-cc6b8145e9fb>\u001b[0m in \u001b[0;36m<module>\u001b[0;34m()\u001b[0m\n\u001b[1;32m      1\u001b[0m \u001b[0mconn\u001b[0m \u001b[0;34m=\u001b[0m \u001b[0msqlite3\u001b[0m\u001b[0;34m.\u001b[0m\u001b[0mconnect\u001b[0m\u001b[0;34m(\u001b[0m\u001b[0;34m'db'\u001b[0m\u001b[0;34m)\u001b[0m\u001b[0;34m\u001b[0m\u001b[0m\n\u001b[0;32m----> 2\u001b[0;31m \u001b[0mdf\u001b[0m \u001b[0;34m=\u001b[0m \u001b[0mpd\u001b[0m\u001b[0;34m.\u001b[0m\u001b[0mread_sql\u001b[0m\u001b[0;34m(\u001b[0m\u001b[0;34m\"SELECT * from hw_one\"\u001b[0m\u001b[0;34m,\u001b[0m \u001b[0mcon\u001b[0m\u001b[0;34m)\u001b[0m\u001b[0;34m\u001b[0m\u001b[0m\n\u001b[0m\u001b[1;32m      3\u001b[0m \u001b[0mdf\u001b[0m\u001b[0;34m\u001b[0m\u001b[0m\n",
        "\u001b[0;32m/Users/alisonharmon/anaconda/lib/python2.7/site-packages/pandas/io/sql.pyc\u001b[0m in \u001b[0;36mread_sql\u001b[0;34m(sql, con, index_col, coerce_float, params, parse_dates, columns, chunksize)\u001b[0m\n\u001b[1;32m    466\u001b[0m             \u001b[0msql\u001b[0m\u001b[0;34m,\u001b[0m \u001b[0mindex_col\u001b[0m\u001b[0;34m=\u001b[0m\u001b[0mindex_col\u001b[0m\u001b[0;34m,\u001b[0m \u001b[0mparams\u001b[0m\u001b[0;34m=\u001b[0m\u001b[0mparams\u001b[0m\u001b[0;34m,\u001b[0m\u001b[0;34m\u001b[0m\u001b[0m\n\u001b[1;32m    467\u001b[0m             \u001b[0mcoerce_float\u001b[0m\u001b[0;34m=\u001b[0m\u001b[0mcoerce_float\u001b[0m\u001b[0;34m,\u001b[0m \u001b[0mparse_dates\u001b[0m\u001b[0;34m=\u001b[0m\u001b[0mparse_dates\u001b[0m\u001b[0;34m,\u001b[0m\u001b[0;34m\u001b[0m\u001b[0m\n\u001b[0;32m--> 468\u001b[0;31m             chunksize=chunksize)\n\u001b[0m\u001b[1;32m    469\u001b[0m \u001b[0;34m\u001b[0m\u001b[0m\n\u001b[1;32m    470\u001b[0m     \u001b[0;32mtry\u001b[0m\u001b[0;34m:\u001b[0m\u001b[0;34m\u001b[0m\u001b[0m\n",
        "\u001b[0;32m/Users/alisonharmon/anaconda/lib/python2.7/site-packages/pandas/io/sql.pyc\u001b[0m in \u001b[0;36mread_query\u001b[0;34m(self, sql, index_col, coerce_float, params, parse_dates, chunksize)\u001b[0m\n\u001b[1;32m   1440\u001b[0m \u001b[0;34m\u001b[0m\u001b[0m\n\u001b[1;32m   1441\u001b[0m         \u001b[0margs\u001b[0m \u001b[0;34m=\u001b[0m \u001b[0m_convert_params\u001b[0m\u001b[0;34m(\u001b[0m\u001b[0msql\u001b[0m\u001b[0;34m,\u001b[0m \u001b[0mparams\u001b[0m\u001b[0;34m)\u001b[0m\u001b[0;34m\u001b[0m\u001b[0m\n\u001b[0;32m-> 1442\u001b[0;31m         \u001b[0mcursor\u001b[0m \u001b[0;34m=\u001b[0m \u001b[0mself\u001b[0m\u001b[0;34m.\u001b[0m\u001b[0mexecute\u001b[0m\u001b[0;34m(\u001b[0m\u001b[0;34m*\u001b[0m\u001b[0margs\u001b[0m\u001b[0;34m)\u001b[0m\u001b[0;34m\u001b[0m\u001b[0m\n\u001b[0m\u001b[1;32m   1443\u001b[0m         \u001b[0mcolumns\u001b[0m \u001b[0;34m=\u001b[0m \u001b[0;34m[\u001b[0m\u001b[0mcol_desc\u001b[0m\u001b[0;34m[\u001b[0m\u001b[0;36m0\u001b[0m\u001b[0;34m]\u001b[0m \u001b[0;32mfor\u001b[0m \u001b[0mcol_desc\u001b[0m \u001b[0;32min\u001b[0m \u001b[0mcursor\u001b[0m\u001b[0;34m.\u001b[0m\u001b[0mdescription\u001b[0m\u001b[0;34m]\u001b[0m\u001b[0;34m\u001b[0m\u001b[0m\n\u001b[1;32m   1444\u001b[0m \u001b[0;34m\u001b[0m\u001b[0m\n",
        "\u001b[0;32m/Users/alisonharmon/anaconda/lib/python2.7/site-packages/pandas/io/sql.pyc\u001b[0m in \u001b[0;36mexecute\u001b[0;34m(self, *args, **kwargs)\u001b[0m\n\u001b[1;32m   1419\u001b[0m \u001b[0;34m\u001b[0m\u001b[0m\n\u001b[1;32m   1420\u001b[0m             \u001b[0mex\u001b[0m \u001b[0;34m=\u001b[0m \u001b[0mDatabaseError\u001b[0m\u001b[0;34m(\u001b[0m\u001b[0;34m\"Execution failed on sql '%s': %s\"\u001b[0m \u001b[0;34m%\u001b[0m \u001b[0;34m(\u001b[0m\u001b[0margs\u001b[0m\u001b[0;34m[\u001b[0m\u001b[0;36m0\u001b[0m\u001b[0;34m]\u001b[0m\u001b[0;34m,\u001b[0m \u001b[0mexc\u001b[0m\u001b[0;34m)\u001b[0m\u001b[0;34m)\u001b[0m\u001b[0;34m\u001b[0m\u001b[0m\n\u001b[0;32m-> 1421\u001b[0;31m             \u001b[0mraise_with_traceback\u001b[0m\u001b[0;34m(\u001b[0m\u001b[0mex\u001b[0m\u001b[0;34m)\u001b[0m\u001b[0;34m\u001b[0m\u001b[0m\n\u001b[0m\u001b[1;32m   1422\u001b[0m \u001b[0;34m\u001b[0m\u001b[0m\n\u001b[1;32m   1423\u001b[0m     \u001b[0;34m@\u001b[0m\u001b[0mstaticmethod\u001b[0m\u001b[0;34m\u001b[0m\u001b[0m\n",
        "\u001b[0;32m/Users/alisonharmon/anaconda/lib/python2.7/site-packages/pandas/io/sql.pyc\u001b[0m in \u001b[0;36mexecute\u001b[0;34m(self, *args, **kwargs)\u001b[0m\n\u001b[1;32m   1408\u001b[0m                 \u001b[0mcur\u001b[0m\u001b[0;34m.\u001b[0m\u001b[0mexecute\u001b[0m\u001b[0;34m(\u001b[0m\u001b[0;34m*\u001b[0m\u001b[0margs\u001b[0m\u001b[0;34m,\u001b[0m \u001b[0;34m**\u001b[0m\u001b[0mkwargs\u001b[0m\u001b[0;34m)\u001b[0m\u001b[0;34m\u001b[0m\u001b[0m\n\u001b[1;32m   1409\u001b[0m             \u001b[0;32melse\u001b[0m\u001b[0;34m:\u001b[0m\u001b[0;34m\u001b[0m\u001b[0m\n\u001b[0;32m-> 1410\u001b[0;31m                 \u001b[0mcur\u001b[0m\u001b[0;34m.\u001b[0m\u001b[0mexecute\u001b[0m\u001b[0;34m(\u001b[0m\u001b[0;34m*\u001b[0m\u001b[0margs\u001b[0m\u001b[0;34m)\u001b[0m\u001b[0;34m\u001b[0m\u001b[0m\n\u001b[0m\u001b[1;32m   1411\u001b[0m             \u001b[0;32mreturn\u001b[0m \u001b[0mcur\u001b[0m\u001b[0;34m\u001b[0m\u001b[0m\n\u001b[1;32m   1412\u001b[0m         \u001b[0;32mexcept\u001b[0m \u001b[0mException\u001b[0m \u001b[0;32mas\u001b[0m \u001b[0mexc\u001b[0m\u001b[0;34m:\u001b[0m\u001b[0;34m\u001b[0m\u001b[0m\n",
        "\u001b[0;31mDatabaseError\u001b[0m: Execution failed on sql 'SELECT * from hw_one': no such table: hw_one"
       ]
      }
     ],
     "prompt_number": 80
    },
    {
     "cell_type": "heading",
     "level": 6,
     "metadata": {},
     "source": [
      "6. Display the first 5 rows of the DB"
     ]
    },
    {
     "cell_type": "code",
     "collapsed": false,
     "input": [
      "#YOUR CODE HERE"
     ],
     "language": "python",
     "metadata": {},
     "outputs": [],
     "prompt_number": 54
    },
    {
     "cell_type": "markdown",
     "metadata": {},
     "source": [
      "####7. Show 10 of the sidewalk cleanings in the Haight Ashbury neighborhood"
     ]
    },
    {
     "cell_type": "code",
     "collapsed": false,
     "input": [
      "#YOUR CODE HERE"
     ],
     "language": "python",
     "metadata": {},
     "outputs": [],
     "prompt_number": 2
    },
    {
     "cell_type": "markdown",
     "metadata": {},
     "source": [
      "####8. Which type of complaint was most common? "
     ]
    },
    {
     "cell_type": "code",
     "collapsed": false,
     "input": [
      "#YOUR CODE HERE"
     ],
     "language": "python",
     "metadata": {},
     "outputs": [],
     "prompt_number": 2
    },
    {
     "cell_type": "markdown",
     "metadata": {},
     "source": [
      "####9. Are there any neighborhoods where sidewalk cleaning requests aren't the most common? "
     ]
    },
    {
     "cell_type": "code",
     "collapsed": false,
     "input": [
      "#YOUR CODE HERE"
     ],
     "language": "python",
     "metadata": {},
     "outputs": [],
     "prompt_number": 1
    },
    {
     "cell_type": "markdown",
     "metadata": {},
     "source": [
      "####BONUS: Come up with your own query! Challenge your fellow classmates by posting your query on HipChat."
     ]
    },
    {
     "cell_type": "code",
     "collapsed": false,
     "input": [
      "#YOUR CODE HERE"
     ],
     "language": "python",
     "metadata": {},
     "outputs": []
    }
   ],
   "metadata": {}
  }
 ]
}