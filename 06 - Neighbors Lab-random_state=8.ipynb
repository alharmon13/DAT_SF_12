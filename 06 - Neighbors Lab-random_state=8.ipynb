{
 "metadata": {
  "name": "",
  "signature": "sha256:871dd2639bad3a37dcb74387320e67ef454694d5ec9afda8de0f0fe22e941ed4"
 },
 "nbformat": 3,
 "nbformat_minor": 0,
 "worksheets": [
  {
   "cells": [
    {
     "cell_type": "markdown",
     "metadata": {},
     "source": [
      "## Implementing the $k$-NN Classification"
     ]
    },
    {
     "cell_type": "markdown",
     "metadata": {},
     "source": [
      "* Apply the $k$-NN Algorithm\n",
      "* Using Cross Validation\n",
      "* Apply Scaling"
     ]
    },
    {
     "cell_type": "code",
     "collapsed": false,
     "input": [
      "%matplotlib inline\n",
      "from __future__ import division\n",
      "import pandas as pd\n",
      "import numpy as np\n",
      "from seaborn import plt\n",
      "from sklearn.datasets import load_iris\n",
      "\n",
      "load_iris?\n",
      "#describes what data looks like --> sklearn data sets lets us see this"
     ],
     "language": "python",
     "metadata": {},
     "outputs": [],
     "prompt_number": 1
    },
    {
     "cell_type": "markdown",
     "metadata": {},
     "source": [
      "The best data set to validate any classification algorithm's performance is the [Fisher Iris data set](http://en.wikipedia.org/wiki/Iris_flower_data_set), which is commonly included in any stats or machine learning package."
     ]
    },
    {
     "cell_type": "code",
     "collapsed": false,
     "input": [
      "from matplotlib.colors import ListedColormap\n",
      "from sklearn import neighbors, datasets, feature_selection\n",
      "from sklearn.cross_validation import train_test_split, cross_val_score"
     ],
     "language": "python",
     "metadata": {},
     "outputs": [],
     "prompt_number": 2
    },
    {
     "cell_type": "code",
     "collapsed": false,
     "input": [
      "# Various variables we'll need to set intially.\n",
      "n_neighbors = range(1, 51, 2)\n",
      "# going from 1 to 51 with a skip of 2. Skipping 2 so that it's odd - so there are no ties... want ks with odd numbers"
     ],
     "language": "python",
     "metadata": {},
     "outputs": [],
     "prompt_number": 3
    },
    {
     "cell_type": "code",
     "collapsed": false,
     "input": [
      "# Load in the data\n",
      "iris = datasets.load_iris()\n",
      "iris_df = pd.DataFrame(iris.data, columns=iris.feature_names)\n",
      "iris_df.describe()"
     ],
     "language": "python",
     "metadata": {},
     "outputs": [
      {
       "html": [
        "<div style=\"max-height:1000px;max-width:1500px;overflow:auto;\">\n",
        "<table border=\"1\" class=\"dataframe\">\n",
        "  <thead>\n",
        "    <tr style=\"text-align: right;\">\n",
        "      <th></th>\n",
        "      <th>sepal length (cm)</th>\n",
        "      <th>sepal width (cm)</th>\n",
        "      <th>petal length (cm)</th>\n",
        "      <th>petal width (cm)</th>\n",
        "    </tr>\n",
        "  </thead>\n",
        "  <tbody>\n",
        "    <tr>\n",
        "      <th>count</th>\n",
        "      <td> 150.000000</td>\n",
        "      <td> 150.000000</td>\n",
        "      <td> 150.000000</td>\n",
        "      <td> 150.000000</td>\n",
        "    </tr>\n",
        "    <tr>\n",
        "      <th>mean</th>\n",
        "      <td>   5.843333</td>\n",
        "      <td>   3.054000</td>\n",
        "      <td>   3.758667</td>\n",
        "      <td>   1.198667</td>\n",
        "    </tr>\n",
        "    <tr>\n",
        "      <th>std</th>\n",
        "      <td>   0.828066</td>\n",
        "      <td>   0.433594</td>\n",
        "      <td>   1.764420</td>\n",
        "      <td>   0.763161</td>\n",
        "    </tr>\n",
        "    <tr>\n",
        "      <th>min</th>\n",
        "      <td>   4.300000</td>\n",
        "      <td>   2.000000</td>\n",
        "      <td>   1.000000</td>\n",
        "      <td>   0.100000</td>\n",
        "    </tr>\n",
        "    <tr>\n",
        "      <th>25%</th>\n",
        "      <td>   5.100000</td>\n",
        "      <td>   2.800000</td>\n",
        "      <td>   1.600000</td>\n",
        "      <td>   0.300000</td>\n",
        "    </tr>\n",
        "    <tr>\n",
        "      <th>50%</th>\n",
        "      <td>   5.800000</td>\n",
        "      <td>   3.000000</td>\n",
        "      <td>   4.350000</td>\n",
        "      <td>   1.300000</td>\n",
        "    </tr>\n",
        "    <tr>\n",
        "      <th>75%</th>\n",
        "      <td>   6.400000</td>\n",
        "      <td>   3.300000</td>\n",
        "      <td>   5.100000</td>\n",
        "      <td>   1.800000</td>\n",
        "    </tr>\n",
        "    <tr>\n",
        "      <th>max</th>\n",
        "      <td>   7.900000</td>\n",
        "      <td>   4.400000</td>\n",
        "      <td>   6.900000</td>\n",
        "      <td>   2.500000</td>\n",
        "    </tr>\n",
        "  </tbody>\n",
        "</table>\n",
        "</div>"
       ],
       "metadata": {},
       "output_type": "pyout",
       "prompt_number": 4,
       "text": [
        "       sepal length (cm)  sepal width (cm)  petal length (cm)  \\\n",
        "count         150.000000        150.000000         150.000000   \n",
        "mean            5.843333          3.054000           3.758667   \n",
        "std             0.828066          0.433594           1.764420   \n",
        "min             4.300000          2.000000           1.000000   \n",
        "25%             5.100000          2.800000           1.600000   \n",
        "50%             5.800000          3.000000           4.350000   \n",
        "75%             6.400000          3.300000           5.100000   \n",
        "max             7.900000          4.400000           6.900000   \n",
        "\n",
        "       petal width (cm)  \n",
        "count        150.000000  \n",
        "mean           1.198667  \n",
        "std            0.763161  \n",
        "min            0.100000  \n",
        "25%            0.300000  \n",
        "50%            1.300000  \n",
        "75%            1.800000  \n",
        "max            2.500000  "
       ]
      }
     ],
     "prompt_number": 4
    },
    {
     "cell_type": "heading",
     "level": 3,
     "metadata": {},
     "source": [
      "Parameter Search"
     ]
    },
    {
     "cell_type": "code",
     "collapsed": false,
     "input": [
      "# Create the training (and test) set using scikit-learn's train_test_split function\n",
      "# could write this by hand... but are going to use scikit-learn's \n",
      "X_train, X_test, y_train, y_test = train_test_split(iris.data, iris.target, test_size=0.3, random_state=8)\n",
      "# including target because want sample set percentage to reflect full set percentage. test size = 30%\n",
      "# everytime you run withwith randomstate=12, get the same train-test split\n",
      "\n",
      "# Try this sequence again with the following random seed.\n",
      "# observe how it changes the scores of K quite dramatically\n",
      "# X_train, X_test, y_train, y_test = train_test_split(iris.data, iris.target, test_size=0.3, random_state=8)"
     ],
     "language": "python",
     "metadata": {},
     "outputs": [],
     "prompt_number": 47
    },
    {
     "cell_type": "code",
     "collapsed": false,
     "input": [
      "# train_test_split?"
     ],
     "language": "python",
     "metadata": {},
     "outputs": [],
     "prompt_number": 48
    },
    {
     "cell_type": "code",
     "collapsed": false,
     "input": [
      "# Loop through each neighbors value from 1 to 51 and append\n",
      "# the scores\n",
      "scores = []\n",
      "for n in n_neighbors:\n",
      "    clf = neighbors.KNeighborsClassifier(n) #number of neighbors\n",
      "    clf.fit(X_train, y_train) #try to fit train (70%) \n",
      "    scores.append(clf.score(X_test, y_test)) #test to see how good of a generalization it is (on 30%)\n",
      "    \n",
      "#doing this for every n (k value 1 to 51 by twos)"
     ],
     "language": "python",
     "metadata": {},
     "outputs": [],
     "prompt_number": 49
    },
    {
     "cell_type": "code",
     "collapsed": false,
     "input": [
      "plt.figure(figsize=(18,6))\n",
      "_ = plt.plot(n_neighbors, scores, linewidth=3.0)\n",
      "#generalization score... looks like 11 is optimal (using this particular train/test split)"
     ],
     "language": "python",
     "metadata": {},
     "outputs": [
      {
       "metadata": {},
       "output_type": "display_data",
       "png": "[encoded data removed]",
       "text": [
        "<matplotlib.figure.Figure at 0x116946e10>"
       ]
      }
     ],
     "prompt_number": 50
    },
    {
     "cell_type": "code",
     "collapsed": false,
     "input": [
      "print (n_neighbors, scores)\n",
      "\n",
      "#what is the better way to do this?"
     ],
     "language": "python",
     "metadata": {},
     "outputs": [
      {
       "output_type": "stream",
       "stream": "stdout",
       "text": [
        "([1, 3, 5, 7, 9, 11, 13, 15, 17, 19, 21, 23, 25, 27, 29, 31, 33, 35, 37, 39, 41, 43, 45, 47, 49], [0.93333333333333335, 0.93333333333333335, 0.9555555555555556, 0.97777777777777775, 0.9555555555555556, 0.93333333333333335, 0.9555555555555556, 0.9555555555555556, 0.9555555555555556, 0.9555555555555556, 0.91111111111111109, 0.93333333333333335, 0.9555555555555556, 0.9555555555555556, 0.93333333333333335, 0.93333333333333335, 0.91111111111111109, 0.91111111111111109, 0.91111111111111109, 0.91111111111111109, 0.88888888888888884, 0.91111111111111109, 0.91111111111111109, 0.88888888888888884, 0.88888888888888884])\n"
       ]
      }
     ],
     "prompt_number": 51
    },
    {
     "cell_type": "markdown",
     "metadata": {},
     "source": [
      "### Application of Cross Validation"
     ]
    },
    {
     "cell_type": "markdown",
     "metadata": {},
     "source": [
      "The work above shows that at 11 neighbors, we can get an ideal result that doesn't overfit the data. To verify this, we'll use cross validation."
     ]
    },
    {
     "cell_type": "code",
     "collapsed": false,
     "input": [
      "neighbors.KNeighborsClassifier?"
     ],
     "language": "python",
     "metadata": {},
     "outputs": [],
     "prompt_number": 52
    },
    {
     "cell_type": "code",
     "collapsed": false,
     "input": [
      "from sklearn.cross_validation import cross_val_score\n",
      "clf = neighbors.KNeighborsClassifier(7, weights='uniform')\n",
      "scores = cross_val_score(clf, iris_df.values, iris.target, cv=5) #fit 5 different splits on this data and for each split, train this classifier and score it on the test set\n",
      "print scores\n",
      "\n",
      "#why not 500? time"
     ],
     "language": "python",
     "metadata": {},
     "outputs": [
      {
       "output_type": "stream",
       "stream": "stdout",
       "text": [
        "[ 0.96666667  1.          0.96666667  0.96666667  1.        ]\n"
       ]
      }
     ],
     "prompt_number": 53
    },
    {
     "cell_type": "code",
     "collapsed": false,
     "input": [
      "# is this good? is 96% good? Yes. There are time when 60% is good... so it really depends"
     ],
     "language": "python",
     "metadata": {},
     "outputs": [],
     "prompt_number": 54
    },
    {
     "cell_type": "code",
     "collapsed": false,
     "input": [
      "np.mean(scores)"
     ],
     "language": "python",
     "metadata": {},
     "outputs": [
      {
       "metadata": {},
       "output_type": "pyout",
       "prompt_number": 55,
       "text": [
        "0.98000000000000009"
       ]
      }
     ],
     "prompt_number": 55
    },
    {
     "cell_type": "code",
     "collapsed": false,
     "input": [
      "# Below returns highest signifiance for features 2 and 3\n",
      "# (remember, Python uses index 0). \n",
      "n = np.arange(len(iris.feature_names))\n",
      "\n",
      "fig = plt.figure(figsize=(18,6))\n",
      "ax = fig.add_subplot(111)\n",
      "\n",
      "ax.bar(n, feature_selection.f_classif(iris.data, iris.target)[0])\n",
      "# looks at data and targets and identify how much each feature contributes to identify that target\n",
      "\n",
      "xtickNames = ax.set_xticklabels(iris.feature_names)\n",
      "ax.set_xticks(n)\n",
      "_ = plt.setp(xtickNames, rotation=45, fontsize=16)"
     ],
     "language": "python",
     "metadata": {},
     "outputs": [
      {
       "metadata": {},
       "output_type": "display_data",
       "png": "[encoded data removed]",
       "text": [
        "<matplotlib.figure.Figure at 0x119ce4c50>"
       ]
      }
     ],
     "prompt_number": 56
    },
    {
     "cell_type": "markdown",
     "metadata": {},
     "source": [
      "Fit only the last two features:"
     ]
    },
    {
     "cell_type": "code",
     "collapsed": false,
     "input": [
      "clf = neighbors.KNeighborsClassifier(7, weights='uniform')\n",
      "clf.fit(iris.data[:, 2:4], iris.target)"
     ],
     "language": "python",
     "metadata": {},
     "outputs": [
      {
       "metadata": {},
       "output_type": "pyout",
       "prompt_number": 57,
       "text": [
        "KNeighborsClassifier(algorithm='auto', leaf_size=30, metric='minkowski',\n",
        "           metric_params=None, n_neighbors=7, p=2, weights='uniform')"
       ]
      }
     ],
     "prompt_number": 57
    },
    {
     "cell_type": "code",
     "collapsed": false,
     "input": [
      "h = .02  # step size in the mesh\n",
      "# Create color maps\n",
      "cmap_light = ListedColormap(['#FFAAAA', '#AAFFAA', '#AAAAFF'])\n",
      "cmap_bold = ListedColormap(['#FF0000', '#00FF00', '#0000FF'])"
     ],
     "language": "python",
     "metadata": {},
     "outputs": [],
     "prompt_number": 58
    },
    {
     "cell_type": "code",
     "collapsed": false,
     "input": [
      "# Plot the decision boundary. For that, we will assign a color to each\n",
      "# point in the mesh [x_min, m_max]x[y_min, y_max].\n",
      "x_min, y_min = iris_df.min()[['petal length (cm)', 'petal width (cm)']]\n",
      "x_max, y_max = iris_df.max()[['petal length (cm)', 'petal width (cm)']]"
     ],
     "language": "python",
     "metadata": {},
     "outputs": [],
     "prompt_number": 59
    },
    {
     "cell_type": "code",
     "collapsed": false,
     "input": [
      "xx, yy = np.meshgrid(np.arange(x_min, x_max, h), np.arange(y_min, y_max, h))\n",
      "\n",
      "Z = clf.predict(np.c_[xx.ravel(), yy.ravel()]) #create predictions for every possible x and y (petal length and width) between the min and max"
     ],
     "language": "python",
     "metadata": {},
     "outputs": [],
     "prompt_number": 60
    },
    {
     "cell_type": "code",
     "collapsed": false,
     "input": [
      "# Put the result into a color plot\n",
      "Z = Z.reshape(xx.shape)"
     ],
     "language": "python",
     "metadata": {},
     "outputs": [],
     "prompt_number": 61
    },
    {
     "cell_type": "code",
     "collapsed": false,
     "input": [
      "plt.figure(figsize=(18,6))\n",
      "plt.pcolormesh(xx, yy, Z, cmap=cmap_light)"
     ],
     "language": "python",
     "metadata": {},
     "outputs": [
      {
       "metadata": {},
       "output_type": "pyout",
       "prompt_number": 62,
       "text": [
        "<matplotlib.collections.QuadMesh at 0x10cfab4d0>"
       ]
      },
      {
       "metadata": {},
       "output_type": "display_data",
       "png": "[encoded data removed]",
       "text": [
        "<matplotlib.figure.Figure at 0x119c86ed0>"
       ]
      }
     ],
     "prompt_number": 62
    },
    {
     "cell_type": "code",
     "collapsed": false,
     "input": [
      "# the lack of smoothness could be a case of overfitting\n",
      "# change the k to see how it changes the graph"
     ],
     "language": "python",
     "metadata": {},
     "outputs": [],
     "prompt_number": 63
    },
    {
     "cell_type": "code",
     "collapsed": false,
     "input": [
      "# Plot also the training points\n",
      "plt.figure(figsize=(18,6))\n",
      "plt.pcolormesh(xx, yy, Z, cmap=cmap_light)\n",
      "plt.scatter(iris_df['petal length (cm)'], iris_df['petal width (cm)'], c=iris.target, cmap=cmap_bold)\n",
      "plt.xlim(xx.min(), xx.max())\n",
      "plt.ylim(yy.min(), yy.max())\n",
      "plt.title(\"3-Class classification (k = {}, weights = '{}')\".format(clf.n_neighbors, clf.weights))"
     ],
     "language": "python",
     "metadata": {},
     "outputs": [
      {
       "metadata": {},
       "output_type": "pyout",
       "prompt_number": 64,
       "text": [
        "<matplotlib.text.Text at 0x11d5c2e90>"
       ]
      },
      {
       "metadata": {},
       "output_type": "display_data",
       "png": "[encoded data removed]",
       "text": [
        "<matplotlib.figure.Figure at 0x11d5849d0>"
       ]
      }
     ],
     "prompt_number": 64
    },
    {
     "cell_type": "heading",
     "level": 3,
     "metadata": {},
     "source": [
      "Scaling"
     ]
    },
    {
     "cell_type": "code",
     "collapsed": false,
     "input": [
      "iris_df.describe()"
     ],
     "language": "python",
     "metadata": {},
     "outputs": [
      {
       "html": [
        "<div style=\"max-height:1000px;max-width:1500px;overflow:auto;\">\n",
        "<table border=\"1\" class=\"dataframe\">\n",
        "  <thead>\n",
        "    <tr style=\"text-align: right;\">\n",
        "      <th></th>\n",
        "      <th>sepal length (cm)</th>\n",
        "      <th>sepal width (cm)</th>\n",
        "      <th>petal length (cm)</th>\n",
        "      <th>petal width (cm)</th>\n",
        "    </tr>\n",
        "  </thead>\n",
        "  <tbody>\n",
        "    <tr>\n",
        "      <th>count</th>\n",
        "      <td> 150.000000</td>\n",
        "      <td> 150.000000</td>\n",
        "      <td> 150.000000</td>\n",
        "      <td> 150.000000</td>\n",
        "    </tr>\n",
        "    <tr>\n",
        "      <th>mean</th>\n",
        "      <td>   5.843333</td>\n",
        "      <td>   3.054000</td>\n",
        "      <td>   3.758667</td>\n",
        "      <td>   1.198667</td>\n",
        "    </tr>\n",
        "    <tr>\n",
        "      <th>std</th>\n",
        "      <td>   0.828066</td>\n",
        "      <td>   0.433594</td>\n",
        "      <td>   1.764420</td>\n",
        "      <td>   0.763161</td>\n",
        "    </tr>\n",
        "    <tr>\n",
        "      <th>min</th>\n",
        "      <td>   4.300000</td>\n",
        "      <td>   2.000000</td>\n",
        "      <td>   1.000000</td>\n",
        "      <td>   0.100000</td>\n",
        "    </tr>\n",
        "    <tr>\n",
        "      <th>25%</th>\n",
        "      <td>   5.100000</td>\n",
        "      <td>   2.800000</td>\n",
        "      <td>   1.600000</td>\n",
        "      <td>   0.300000</td>\n",
        "    </tr>\n",
        "    <tr>\n",
        "      <th>50%</th>\n",
        "      <td>   5.800000</td>\n",
        "      <td>   3.000000</td>\n",
        "      <td>   4.350000</td>\n",
        "      <td>   1.300000</td>\n",
        "    </tr>\n",
        "    <tr>\n",
        "      <th>75%</th>\n",
        "      <td>   6.400000</td>\n",
        "      <td>   3.300000</td>\n",
        "      <td>   5.100000</td>\n",
        "      <td>   1.800000</td>\n",
        "    </tr>\n",
        "    <tr>\n",
        "      <th>max</th>\n",
        "      <td>   7.900000</td>\n",
        "      <td>   4.400000</td>\n",
        "      <td>   6.900000</td>\n",
        "      <td>   2.500000</td>\n",
        "    </tr>\n",
        "  </tbody>\n",
        "</table>\n",
        "</div>"
       ],
       "metadata": {},
       "output_type": "pyout",
       "prompt_number": 40,
       "text": [
        "       sepal length (cm)  sepal width (cm)  petal length (cm)  \\\n",
        "count         150.000000        150.000000         150.000000   \n",
        "mean            5.843333          3.054000           3.758667   \n",
        "std             0.828066          0.433594           1.764420   \n",
        "min             4.300000          2.000000           1.000000   \n",
        "25%             5.100000          2.800000           1.600000   \n",
        "50%             5.800000          3.000000           4.350000   \n",
        "75%             6.400000          3.300000           5.100000   \n",
        "max             7.900000          4.400000           6.900000   \n",
        "\n",
        "       petal width (cm)  \n",
        "count        150.000000  \n",
        "mean           1.198667  \n",
        "std            0.763161  \n",
        "min            0.100000  \n",
        "25%            0.300000  \n",
        "50%            1.300000  \n",
        "75%            1.800000  \n",
        "max            2.500000  "
       ]
      }
     ],
     "prompt_number": 40
    },
    {
     "cell_type": "code",
     "collapsed": false,
     "input": [
      "from sklearn.preprocessing import scale"
     ],
     "language": "python",
     "metadata": {},
     "outputs": [],
     "prompt_number": 41
    },
    {
     "cell_type": "code",
     "collapsed": false,
     "input": [
      "df_norm = pd.DataFrame(scale(iris.data), columns=iris.feature_names)"
     ],
     "language": "python",
     "metadata": {},
     "outputs": [],
     "prompt_number": 42
    },
    {
     "cell_type": "code",
     "collapsed": false,
     "input": [
      "df_norm.head()"
     ],
     "language": "python",
     "metadata": {},
     "outputs": [
      {
       "html": [
        "<div style=\"max-height:1000px;max-width:1500px;overflow:auto;\">\n",
        "<table border=\"1\" class=\"dataframe\">\n",
        "  <thead>\n",
        "    <tr style=\"text-align: right;\">\n",
        "      <th></th>\n",
        "      <th>sepal length (cm)</th>\n",
        "      <th>sepal width (cm)</th>\n",
        "      <th>petal length (cm)</th>\n",
        "      <th>petal width (cm)</th>\n",
        "    </tr>\n",
        "  </thead>\n",
        "  <tbody>\n",
        "    <tr>\n",
        "      <th>0</th>\n",
        "      <td>-0.900681</td>\n",
        "      <td> 1.032057</td>\n",
        "      <td>-1.341272</td>\n",
        "      <td>-1.312977</td>\n",
        "    </tr>\n",
        "    <tr>\n",
        "      <th>1</th>\n",
        "      <td>-1.143017</td>\n",
        "      <td>-0.124958</td>\n",
        "      <td>-1.341272</td>\n",
        "      <td>-1.312977</td>\n",
        "    </tr>\n",
        "    <tr>\n",
        "      <th>2</th>\n",
        "      <td>-1.385353</td>\n",
        "      <td> 0.337848</td>\n",
        "      <td>-1.398138</td>\n",
        "      <td>-1.312977</td>\n",
        "    </tr>\n",
        "    <tr>\n",
        "      <th>3</th>\n",
        "      <td>-1.506521</td>\n",
        "      <td> 0.106445</td>\n",
        "      <td>-1.284407</td>\n",
        "      <td>-1.312977</td>\n",
        "    </tr>\n",
        "    <tr>\n",
        "      <th>4</th>\n",
        "      <td>-1.021849</td>\n",
        "      <td> 1.263460</td>\n",
        "      <td>-1.341272</td>\n",
        "      <td>-1.312977</td>\n",
        "    </tr>\n",
        "  </tbody>\n",
        "</table>\n",
        "</div>"
       ],
       "metadata": {},
       "output_type": "pyout",
       "prompt_number": 43,
       "text": [
        "   sepal length (cm)  sepal width (cm)  petal length (cm)  petal width (cm)\n",
        "0          -0.900681          1.032057          -1.341272         -1.312977\n",
        "1          -1.143017         -0.124958          -1.341272         -1.312977\n",
        "2          -1.385353          0.337848          -1.398138         -1.312977\n",
        "3          -1.506521          0.106445          -1.284407         -1.312977\n",
        "4          -1.021849          1.263460          -1.341272         -1.312977"
       ]
      }
     ],
     "prompt_number": 43
    },
    {
     "cell_type": "code",
     "collapsed": false,
     "input": [
      "df_norm.describe()"
     ],
     "language": "python",
     "metadata": {},
     "outputs": [
      {
       "html": [
        "<div style=\"max-height:1000px;max-width:1500px;overflow:auto;\">\n",
        "<table border=\"1\" class=\"dataframe\">\n",
        "  <thead>\n",
        "    <tr style=\"text-align: right;\">\n",
        "      <th></th>\n",
        "      <th>sepal length (cm)</th>\n",
        "      <th>sepal width (cm)</th>\n",
        "      <th>petal length (cm)</th>\n",
        "      <th>petal width (cm)</th>\n",
        "    </tr>\n",
        "  </thead>\n",
        "  <tbody>\n",
        "    <tr>\n",
        "      <th>count</th>\n",
        "      <td> 1.500000e+02</td>\n",
        "      <td> 1.500000e+02</td>\n",
        "      <td> 1.500000e+02</td>\n",
        "      <td> 1.500000e+02</td>\n",
        "    </tr>\n",
        "    <tr>\n",
        "      <th>mean</th>\n",
        "      <td>-1.468455e-15</td>\n",
        "      <td>-1.657933e-15</td>\n",
        "      <td>-1.515825e-15</td>\n",
        "      <td>-8.052818e-16</td>\n",
        "    </tr>\n",
        "    <tr>\n",
        "      <th>std</th>\n",
        "      <td> 1.003350e+00</td>\n",
        "      <td> 1.003350e+00</td>\n",
        "      <td> 1.003350e+00</td>\n",
        "      <td> 1.003350e+00</td>\n",
        "    </tr>\n",
        "    <tr>\n",
        "      <th>min</th>\n",
        "      <td>-1.870024e+00</td>\n",
        "      <td>-2.438987e+00</td>\n",
        "      <td>-1.568735e+00</td>\n",
        "      <td>-1.444450e+00</td>\n",
        "    </tr>\n",
        "    <tr>\n",
        "      <th>25%</th>\n",
        "      <td>-9.006812e-01</td>\n",
        "      <td>-5.877635e-01</td>\n",
        "      <td>-1.227541e+00</td>\n",
        "      <td>-1.181504e+00</td>\n",
        "    </tr>\n",
        "    <tr>\n",
        "      <th>50%</th>\n",
        "      <td>-5.250608e-02</td>\n",
        "      <td>-1.249576e-01</td>\n",
        "      <td> 3.362659e-01</td>\n",
        "      <td> 1.332259e-01</td>\n",
        "    </tr>\n",
        "    <tr>\n",
        "      <th>75%</th>\n",
        "      <td> 6.745011e-01</td>\n",
        "      <td> 5.692513e-01</td>\n",
        "      <td> 7.627586e-01</td>\n",
        "      <td> 7.905908e-01</td>\n",
        "    </tr>\n",
        "    <tr>\n",
        "      <th>max</th>\n",
        "      <td> 2.492019e+00</td>\n",
        "      <td> 3.114684e+00</td>\n",
        "      <td> 1.786341e+00</td>\n",
        "      <td> 1.710902e+00</td>\n",
        "    </tr>\n",
        "  </tbody>\n",
        "</table>\n",
        "</div>"
       ],
       "metadata": {},
       "output_type": "pyout",
       "prompt_number": 44,
       "text": [
        "       sepal length (cm)  sepal width (cm)  petal length (cm)  \\\n",
        "count       1.500000e+02      1.500000e+02       1.500000e+02   \n",
        "mean       -1.468455e-15     -1.657933e-15      -1.515825e-15   \n",
        "std         1.003350e+00      1.003350e+00       1.003350e+00   \n",
        "min        -1.870024e+00     -2.438987e+00      -1.568735e+00   \n",
        "25%        -9.006812e-01     -5.877635e-01      -1.227541e+00   \n",
        "50%        -5.250608e-02     -1.249576e-01       3.362659e-01   \n",
        "75%         6.745011e-01      5.692513e-01       7.627586e-01   \n",
        "max         2.492019e+00      3.114684e+00       1.786341e+00   \n",
        "\n",
        "       petal width (cm)  \n",
        "count      1.500000e+02  \n",
        "mean      -8.052818e-16  \n",
        "std        1.003350e+00  \n",
        "min       -1.444450e+00  \n",
        "25%       -1.181504e+00  \n",
        "50%        1.332259e-01  \n",
        "75%        7.905908e-01  \n",
        "max        1.710902e+00  "
       ]
      }
     ],
     "prompt_number": 44
    },
    {
     "cell_type": "heading",
     "level": 2,
     "metadata": {},
     "source": [
      "Lab"
     ]
    },
    {
     "cell_type": "markdown",
     "metadata": {},
     "source": [
      "1. Rerun the [parameter search](#Parameter-Search) with `random_state=8`. Do you get the same result for the optimal $k$\n",
      "2. Rerun the whole lab but using [scaled](#Scaling) data"
     ]
    },
    {
     "cell_type": "markdown",
     "metadata": {},
     "source": [
      "## Show and Tell"
     ]
    }
   ],
   "metadata": {}
  }
 ]
}