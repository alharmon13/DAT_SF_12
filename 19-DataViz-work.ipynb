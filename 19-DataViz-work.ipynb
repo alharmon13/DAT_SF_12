{
 "cells": [
  {
   "cell_type": "markdown",
   "metadata": {},
   "source": [
    "# [Data Visualization](#Topics)\n",
    "\n",
    "##### From the dedication page of <u>Grammar of Graphics</u> by Wilkinson, Anand, and Grossman (2005):\n",
    "\n",
    "> \"God hides in the smallest pieces.\"   \n",
    "\n",
    "~ Caspar Barlaeus  \n",
    "\n",
    "> \"God hides in the details.\"  \n",
    "\n",
    "~ Aby Warbung  \n",
    "\n",
    "> \"God is in the details.\"  \n",
    "\n",
    "~ Ludwig Mies van der Rohe  \n",
    "> \"The devil is in the details.\"  \n",
    "\n",
    "~ George Shultz  \n",
    "\n",
    "> \"Bad programmers ignore details. Bad designers get lost in the details.\"  \n",
    "\n",
    "~ Nate Kirby  \n",
    "\n",
    "## [Topics](#Data-Visualization)\n",
    "\n",
    "1. [Brief History](#Brief-History)\n",
    "2. [Before Grammar of Graphics](#Before-Grammar-of-Graphics)\n",
    "3. [Grammar of Graphics](#Grammar-of-Graphics)\n",
    "4. [ggplot2](#ggplot2)\n",
    "5. [Seaborn](#seaborn)\n",
    "6. [Bokeh](#Bokeh)\n",
    "\n",
    "## [Brief History](#Topics)\n",
    "\n",
    "- 1976 - S released\n",
    "- 1984 - Matlab released\n",
    "- 1991 - Python 0.9 released\n",
    "- 1993 - R released\n",
    "- 2005 - [Grammar of Graphics](http://smile.amazon.com/Grammar-Graphics-Statistics-Computing/dp/0387245448/ref=smi_www_rco2_go_smi_2053980522?ie=UTF8&%252AVersion%252A=1&%252Aentries%252A=0) published\n",
    "- 2007 - Matplotlib (Python port of Matlab plotting)\n",
    "- 2010 - ggplot2 (for R)\n",
    "- 2012 - Seaborn, Bokeh (Grammar of Graphics for Python)\n",
    "- 2013 - ggplot (ggplot2 for Python)\n",
    "\n",
    "## [Before _Grammar of Graphics_](#Topics)\n",
    "\n",
    "### `plot` in R:"
   ]
  },
  {
   "cell_type": "code",
   "execution_count": 1,
   "metadata": {
    "collapsed": false
   },
   "outputs": [
    {
     "ename": "ImportError",
     "evalue": "No module named rpy2.ipython",
     "output_type": "error",
     "traceback": [
      "\u001b[0;31m---------------------------------------------------------------------------\u001b[0m",
      "\u001b[0;31mImportError\u001b[0m                               Traceback (most recent call last)",
      "\u001b[0;32m<ipython-input-1-691c6d73b073>\u001b[0m in \u001b[0;36m<module>\u001b[0;34m()\u001b[0m\n\u001b[0;32m----> 1\u001b[0;31m \u001b[0mget_ipython\u001b[0m\u001b[0;34m(\u001b[0m\u001b[0;34m)\u001b[0m\u001b[0;34m.\u001b[0m\u001b[0mmagic\u001b[0m\u001b[0;34m(\u001b[0m\u001b[0;34mu'load_ext rpy2.ipython'\u001b[0m\u001b[0;34m)\u001b[0m\u001b[0;34m\u001b[0m\u001b[0m\n\u001b[0m",
      "\u001b[0;32m/Users/alisonharmon/anaconda/lib/python2.7/site-packages/IPython/core/interactiveshell.pyc\u001b[0m in \u001b[0;36mmagic\u001b[0;34m(self, arg_s)\u001b[0m\n\u001b[1;32m   2302\u001b[0m         \u001b[0mmagic_name\u001b[0m\u001b[0;34m,\u001b[0m \u001b[0m_\u001b[0m\u001b[0;34m,\u001b[0m \u001b[0mmagic_arg_s\u001b[0m \u001b[0;34m=\u001b[0m \u001b[0marg_s\u001b[0m\u001b[0;34m.\u001b[0m\u001b[0mpartition\u001b[0m\u001b[0;34m(\u001b[0m\u001b[0;34m' '\u001b[0m\u001b[0;34m)\u001b[0m\u001b[0;34m\u001b[0m\u001b[0m\n\u001b[1;32m   2303\u001b[0m         \u001b[0mmagic_name\u001b[0m \u001b[0;34m=\u001b[0m \u001b[0mmagic_name\u001b[0m\u001b[0;34m.\u001b[0m\u001b[0mlstrip\u001b[0m\u001b[0;34m(\u001b[0m\u001b[0mprefilter\u001b[0m\u001b[0;34m.\u001b[0m\u001b[0mESC_MAGIC\u001b[0m\u001b[0;34m)\u001b[0m\u001b[0;34m\u001b[0m\u001b[0m\n\u001b[0;32m-> 2304\u001b[0;31m         \u001b[0;32mreturn\u001b[0m \u001b[0mself\u001b[0m\u001b[0;34m.\u001b[0m\u001b[0mrun_line_magic\u001b[0m\u001b[0;34m(\u001b[0m\u001b[0mmagic_name\u001b[0m\u001b[0;34m,\u001b[0m \u001b[0mmagic_arg_s\u001b[0m\u001b[0;34m)\u001b[0m\u001b[0;34m\u001b[0m\u001b[0m\n\u001b[0m\u001b[1;32m   2305\u001b[0m \u001b[0;34m\u001b[0m\u001b[0m\n\u001b[1;32m   2306\u001b[0m     \u001b[0;31m#-------------------------------------------------------------------------\u001b[0m\u001b[0;34m\u001b[0m\u001b[0;34m\u001b[0m\u001b[0m\n",
      "\u001b[0;32m/Users/alisonharmon/anaconda/lib/python2.7/site-packages/IPython/core/interactiveshell.pyc\u001b[0m in \u001b[0;36mrun_line_magic\u001b[0;34m(self, magic_name, line)\u001b[0m\n\u001b[1;32m   2223\u001b[0m                 \u001b[0mkwargs\u001b[0m\u001b[0;34m[\u001b[0m\u001b[0;34m'local_ns'\u001b[0m\u001b[0;34m]\u001b[0m \u001b[0;34m=\u001b[0m \u001b[0msys\u001b[0m\u001b[0;34m.\u001b[0m\u001b[0m_getframe\u001b[0m\u001b[0;34m(\u001b[0m\u001b[0mstack_depth\u001b[0m\u001b[0;34m)\u001b[0m\u001b[0;34m.\u001b[0m\u001b[0mf_locals\u001b[0m\u001b[0;34m\u001b[0m\u001b[0m\n\u001b[1;32m   2224\u001b[0m             \u001b[0;32mwith\u001b[0m \u001b[0mself\u001b[0m\u001b[0;34m.\u001b[0m\u001b[0mbuiltin_trap\u001b[0m\u001b[0;34m:\u001b[0m\u001b[0;34m\u001b[0m\u001b[0m\n\u001b[0;32m-> 2225\u001b[0;31m                 \u001b[0mresult\u001b[0m \u001b[0;34m=\u001b[0m \u001b[0mfn\u001b[0m\u001b[0;34m(\u001b[0m\u001b[0;34m*\u001b[0m\u001b[0margs\u001b[0m\u001b[0;34m,\u001b[0m\u001b[0;34m**\u001b[0m\u001b[0mkwargs\u001b[0m\u001b[0;34m)\u001b[0m\u001b[0;34m\u001b[0m\u001b[0m\n\u001b[0m\u001b[1;32m   2226\u001b[0m             \u001b[0;32mreturn\u001b[0m \u001b[0mresult\u001b[0m\u001b[0;34m\u001b[0m\u001b[0m\n\u001b[1;32m   2227\u001b[0m \u001b[0;34m\u001b[0m\u001b[0m\n",
      "\u001b[0;32m/Users/alisonharmon/anaconda/lib/python2.7/site-packages/IPython/core/magics/extension.pyc\u001b[0m in \u001b[0;36mload_ext\u001b[0;34m(self, module_str)\u001b[0m\n",
      "\u001b[0;32m/Users/alisonharmon/anaconda/lib/python2.7/site-packages/IPython/core/magic.pyc\u001b[0m in \u001b[0;36m<lambda>\u001b[0;34m(f, *a, **k)\u001b[0m\n\u001b[1;32m    191\u001b[0m     \u001b[0;31m# but it's overkill for just that one bit of state.\u001b[0m\u001b[0;34m\u001b[0m\u001b[0;34m\u001b[0m\u001b[0m\n\u001b[1;32m    192\u001b[0m     \u001b[0;32mdef\u001b[0m \u001b[0mmagic_deco\u001b[0m\u001b[0;34m(\u001b[0m\u001b[0marg\u001b[0m\u001b[0;34m)\u001b[0m\u001b[0;34m:\u001b[0m\u001b[0;34m\u001b[0m\u001b[0m\n\u001b[0;32m--> 193\u001b[0;31m         \u001b[0mcall\u001b[0m \u001b[0;34m=\u001b[0m \u001b[0;32mlambda\u001b[0m \u001b[0mf\u001b[0m\u001b[0;34m,\u001b[0m \u001b[0;34m*\u001b[0m\u001b[0ma\u001b[0m\u001b[0;34m,\u001b[0m \u001b[0;34m**\u001b[0m\u001b[0mk\u001b[0m\u001b[0;34m:\u001b[0m \u001b[0mf\u001b[0m\u001b[0;34m(\u001b[0m\u001b[0;34m*\u001b[0m\u001b[0ma\u001b[0m\u001b[0;34m,\u001b[0m \u001b[0;34m**\u001b[0m\u001b[0mk\u001b[0m\u001b[0;34m)\u001b[0m\u001b[0;34m\u001b[0m\u001b[0m\n\u001b[0m\u001b[1;32m    194\u001b[0m \u001b[0;34m\u001b[0m\u001b[0m\n\u001b[1;32m    195\u001b[0m         \u001b[0;32mif\u001b[0m \u001b[0mcallable\u001b[0m\u001b[0;34m(\u001b[0m\u001b[0marg\u001b[0m\u001b[0;34m)\u001b[0m\u001b[0;34m:\u001b[0m\u001b[0;34m\u001b[0m\u001b[0m\n",
      "\u001b[0;32m/Users/alisonharmon/anaconda/lib/python2.7/site-packages/IPython/core/magics/extension.pyc\u001b[0m in \u001b[0;36mload_ext\u001b[0;34m(self, module_str)\u001b[0m\n\u001b[1;32m     61\u001b[0m         \u001b[0;32mif\u001b[0m \u001b[0;32mnot\u001b[0m \u001b[0mmodule_str\u001b[0m\u001b[0;34m:\u001b[0m\u001b[0;34m\u001b[0m\u001b[0m\n\u001b[1;32m     62\u001b[0m             \u001b[0;32mraise\u001b[0m \u001b[0mUsageError\u001b[0m\u001b[0;34m(\u001b[0m\u001b[0;34m'Missing module name.'\u001b[0m\u001b[0;34m)\u001b[0m\u001b[0;34m\u001b[0m\u001b[0m\n\u001b[0;32m---> 63\u001b[0;31m         \u001b[0mres\u001b[0m \u001b[0;34m=\u001b[0m \u001b[0mself\u001b[0m\u001b[0;34m.\u001b[0m\u001b[0mshell\u001b[0m\u001b[0;34m.\u001b[0m\u001b[0mextension_manager\u001b[0m\u001b[0;34m.\u001b[0m\u001b[0mload_extension\u001b[0m\u001b[0;34m(\u001b[0m\u001b[0mmodule_str\u001b[0m\u001b[0;34m)\u001b[0m\u001b[0;34m\u001b[0m\u001b[0m\n\u001b[0m\u001b[1;32m     64\u001b[0m \u001b[0;34m\u001b[0m\u001b[0m\n\u001b[1;32m     65\u001b[0m         \u001b[0;32mif\u001b[0m \u001b[0mres\u001b[0m \u001b[0;34m==\u001b[0m \u001b[0;34m'already loaded'\u001b[0m\u001b[0;34m:\u001b[0m\u001b[0;34m\u001b[0m\u001b[0m\n",
      "\u001b[0;32m/Users/alisonharmon/anaconda/lib/python2.7/site-packages/IPython/core/extensions.pyc\u001b[0m in \u001b[0;36mload_extension\u001b[0;34m(self, module_str)\u001b[0m\n\u001b[1;32m     83\u001b[0m             \u001b[0;32mif\u001b[0m \u001b[0mmodule_str\u001b[0m \u001b[0;32mnot\u001b[0m \u001b[0;32min\u001b[0m \u001b[0msys\u001b[0m\u001b[0;34m.\u001b[0m\u001b[0mmodules\u001b[0m\u001b[0;34m:\u001b[0m\u001b[0;34m\u001b[0m\u001b[0m\n\u001b[1;32m     84\u001b[0m                 \u001b[0;32mwith\u001b[0m \u001b[0mprepended_to_syspath\u001b[0m\u001b[0;34m(\u001b[0m\u001b[0mself\u001b[0m\u001b[0;34m.\u001b[0m\u001b[0mipython_extension_dir\u001b[0m\u001b[0;34m)\u001b[0m\u001b[0;34m:\u001b[0m\u001b[0;34m\u001b[0m\u001b[0m\n\u001b[0;32m---> 85\u001b[0;31m                     \u001b[0m__import__\u001b[0m\u001b[0;34m(\u001b[0m\u001b[0mmodule_str\u001b[0m\u001b[0;34m)\u001b[0m\u001b[0;34m\u001b[0m\u001b[0m\n\u001b[0m\u001b[1;32m     86\u001b[0m             \u001b[0mmod\u001b[0m \u001b[0;34m=\u001b[0m \u001b[0msys\u001b[0m\u001b[0;34m.\u001b[0m\u001b[0mmodules\u001b[0m\u001b[0;34m[\u001b[0m\u001b[0mmodule_str\u001b[0m\u001b[0;34m]\u001b[0m\u001b[0;34m\u001b[0m\u001b[0m\n\u001b[1;32m     87\u001b[0m             \u001b[0;32mif\u001b[0m \u001b[0mself\u001b[0m\u001b[0;34m.\u001b[0m\u001b[0m_call_load_ipython_extension\u001b[0m\u001b[0;34m(\u001b[0m\u001b[0mmod\u001b[0m\u001b[0;34m)\u001b[0m\u001b[0;34m:\u001b[0m\u001b[0;34m\u001b[0m\u001b[0m\n",
      "\u001b[0;31mImportError\u001b[0m: No module named rpy2.ipython"
     ]
    }
   ],
   "source": [
    "%load_ext rpy2.ipython"
   ]
  },
  {
   "cell_type": "code",
   "execution_count": 2,
   "metadata": {
    "collapsed": false
   },
   "outputs": [
    {
     "name": "stderr",
     "output_type": "stream",
     "text": [
      "ERROR: Cell magic `%%R` not found.\n"
     ]
    }
   ],
   "source": [
    "%%R\n",
    "plot(mtcars$wt, mtcars$mpg)       # plot data as scatter plot\n",
    "abline(lm(mtcars$mpg ~ mtcars$wt))  # find slope and intercept and plot them as a line\n",
    "title(\"Regression of MPG on Weight\")  "
   ]
  },
  {
   "cell_type": "markdown",
   "metadata": {},
   "source": [
    "### `plot` in matplotlib.pylab:"
   ]
  },
  {
   "cell_type": "code",
   "execution_count": 3,
   "metadata": {
    "collapsed": false
   },
   "outputs": [
    {
     "name": "stdout",
     "output_type": "stream",
     "text": [
      "Populating the interactive namespace from numpy and matplotlib\n"
     ]
    }
   ],
   "source": [
    "%pylab inline"
   ]
  },
  {
   "cell_type": "code",
   "execution_count": 4,
   "metadata": {
    "collapsed": false
   },
   "outputs": [
    {
     "ename": "ImportError",
     "evalue": "No module named rpy2.robjects.packages",
     "output_type": "error",
     "traceback": [
      "\u001b[0;31m---------------------------------------------------------------------------\u001b[0m",
      "\u001b[0;31mImportError\u001b[0m                               Traceback (most recent call last)",
      "\u001b[0;32m<ipython-input-4-185b1461829f>\u001b[0m in \u001b[0;36m<module>\u001b[0;34m()\u001b[0m\n\u001b[0;32m----> 1\u001b[0;31m \u001b[0;32mfrom\u001b[0m \u001b[0mpandas\u001b[0m\u001b[0;34m.\u001b[0m\u001b[0mrpy\u001b[0m\u001b[0;34m.\u001b[0m\u001b[0mcommon\u001b[0m \u001b[0;32mimport\u001b[0m \u001b[0mload_data\u001b[0m  \u001b[0;31m# for getting data from R\u001b[0m\u001b[0;34m\u001b[0m\u001b[0m\n\u001b[0m\u001b[1;32m      2\u001b[0m \u001b[0;32mfrom\u001b[0m \u001b[0mscipy\u001b[0m\u001b[0;34m.\u001b[0m\u001b[0mstats\u001b[0m \u001b[0;32mimport\u001b[0m \u001b[0mlinregress\u001b[0m       \u001b[0;31m# simple linear regression method\u001b[0m\u001b[0;34m\u001b[0m\u001b[0m\n\u001b[1;32m      3\u001b[0m \u001b[0mmtcars\u001b[0m \u001b[0;34m=\u001b[0m \u001b[0mload_data\u001b[0m\u001b[0;34m(\u001b[0m\u001b[0;34m'mtcars'\u001b[0m\u001b[0;34m)\u001b[0m             \u001b[0;31m# load mtcars data from R\u001b[0m\u001b[0;34m\u001b[0m\u001b[0m\n\u001b[1;32m      4\u001b[0m \u001b[0mslope\u001b[0m\u001b[0;34m,\u001b[0m \u001b[0mintercept\u001b[0m \u001b[0;34m=\u001b[0m \u001b[0mlinregress\u001b[0m\u001b[0;34m(\u001b[0m\u001b[0mmtcars\u001b[0m\u001b[0;34m.\u001b[0m\u001b[0mwt\u001b[0m\u001b[0;34m,\u001b[0m \u001b[0mmtcars\u001b[0m\u001b[0;34m.\u001b[0m\u001b[0mmpg\u001b[0m\u001b[0;34m)\u001b[0m\u001b[0;34m[\u001b[0m\u001b[0;34m:\u001b[0m\u001b[0;36m2\u001b[0m\u001b[0;34m]\u001b[0m  \u001b[0;31m# find slope and intercept (r, p, etc.)\u001b[0m\u001b[0;34m\u001b[0m\u001b[0m\n\u001b[1;32m      5\u001b[0m \u001b[0mplot\u001b[0m\u001b[0;34m(\u001b[0m\u001b[0mmtcars\u001b[0m\u001b[0;34m.\u001b[0m\u001b[0mwt\u001b[0m\u001b[0;34m,\u001b[0m \u001b[0mmtcars\u001b[0m\u001b[0;34m.\u001b[0m\u001b[0mmpg\u001b[0m\u001b[0;34m,\u001b[0m \u001b[0;34m'o'\u001b[0m\u001b[0;34m)\u001b[0m                \u001b[0;31m# plot data\u001b[0m\u001b[0;34m\u001b[0m\u001b[0m\n",
      "\u001b[0;32m/Users/alisonharmon/anaconda/lib/python2.7/site-packages/pandas/rpy/common.py\u001b[0m in \u001b[0;36m<module>\u001b[0;34m()\u001b[0m\n\u001b[1;32m     13\u001b[0m \u001b[0;32mimport\u001b[0m \u001b[0mpandas\u001b[0m\u001b[0;34m.\u001b[0m\u001b[0mutil\u001b[0m\u001b[0;34m.\u001b[0m\u001b[0mtesting\u001b[0m \u001b[0;32mas\u001b[0m \u001b[0m_test\u001b[0m\u001b[0;34m\u001b[0m\u001b[0m\n\u001b[1;32m     14\u001b[0m \u001b[0;34m\u001b[0m\u001b[0m\n\u001b[0;32m---> 15\u001b[0;31m \u001b[0;32mfrom\u001b[0m \u001b[0mrpy2\u001b[0m\u001b[0;34m.\u001b[0m\u001b[0mrobjects\u001b[0m\u001b[0;34m.\u001b[0m\u001b[0mpackages\u001b[0m \u001b[0;32mimport\u001b[0m \u001b[0mimportr\u001b[0m\u001b[0;34m\u001b[0m\u001b[0m\n\u001b[0m\u001b[1;32m     16\u001b[0m \u001b[0;32mfrom\u001b[0m \u001b[0mrpy2\u001b[0m\u001b[0;34m.\u001b[0m\u001b[0mrobjects\u001b[0m \u001b[0;32mimport\u001b[0m \u001b[0mr\u001b[0m\u001b[0;34m\u001b[0m\u001b[0m\n\u001b[1;32m     17\u001b[0m \u001b[0;32mimport\u001b[0m \u001b[0mrpy2\u001b[0m\u001b[0;34m.\u001b[0m\u001b[0mrobjects\u001b[0m \u001b[0;32mas\u001b[0m \u001b[0mrobj\u001b[0m\u001b[0;34m\u001b[0m\u001b[0m\n",
      "\u001b[0;31mImportError\u001b[0m: No module named rpy2.robjects.packages"
     ]
    }
   ],
   "source": [
    "from pandas.rpy.common import load_data  # for getting data from R\n",
    "from scipy.stats import linregress       # simple linear regression method\n",
    "mtcars = load_data('mtcars')             # load mtcars data from R\n",
    "slope, intercept = linregress(mtcars.wt, mtcars.mpg)[:2]  # find slope and intercept (r, p, etc.)\n",
    "plot(mtcars.wt, mtcars.mpg, 'o')                # plot data\n",
    "plot(mtcars.wt, mtcars.wt * slope + intercept)  # plot line\n",
    "title(\"Regression of MPG on Weight\")            # add title and labels\n",
    "xlabel('wt'); ylabel('mpg');"
   ]
  },
  {
   "cell_type": "markdown",
   "metadata": {},
   "source": [
    "###  another example: `pie` in R"
   ]
  },
  {
   "cell_type": "code",
   "execution_count": null,
   "metadata": {
    "collapsed": false
   },
   "outputs": [],
   "source": [
    "%%R\n",
    "# Simple Pie Chart\n",
    "slices <- c(10, 12,4, 16, 8)\n",
    "lbls <- c(\"US\", \"UK\", \"Australia\", \"Germany\", \"France\")\n",
    "pie(slices, labels = lbls, main=\"Pie Chart of Countries\")"
   ]
  },
  {
   "cell_type": "markdown",
   "metadata": {},
   "source": [
    "### `pie` in matplotlib.pylab:"
   ]
  },
  {
   "cell_type": "code",
   "execution_count": null,
   "metadata": {
    "collapsed": false
   },
   "outputs": [],
   "source": [
    "slices = [10, 12,4, 16, 8]\n",
    "lbls = [\"US\", \"UK\", \"Australia\", \"Germany\", \"France\"]\n",
    "pie(slices, labels = lbls)\n",
    "title(\"Pie Chart of Countries\");"
   ]
  },
  {
   "cell_type": "markdown",
   "metadata": {},
   "source": [
    "#### You can do a lot with `matplotlib` though\n",
    "For example, you could make:\n",
    "![mpl](http://jakevdp.github.com/figures/mpl_version.png)\n",
    "look like:\n",
    "![xkcd](http://jakevdp.github.com/figures/xkcd_version.png)\n",
    "[...if you are willing to put in the effort:](https://jakevdp.github.io/blog/2012/10/07/xkcd-style-plots-in-matplotlib/)"
   ]
  },
  {
   "cell_type": "code",
   "execution_count": null,
   "metadata": {
    "collapsed": true
   },
   "outputs": [],
   "source": [
    "from scipy import interpolate, signal\n",
    "import matplotlib.font_manager as fm\n",
    "\n",
    "# We need a special font for the code below.  It can be downloaded this way:\n",
    "import os\n",
    "import urllib2\n",
    "if not os.path.exists('Humor-Sans.ttf'):\n",
    "    fhandle = urllib2.urlopen('http://antiyawn.com/uploads/Humor-Sans-1.0.ttf')\n",
    "    open('Humor-Sans.ttf', 'wb').write(fhandle.read())\n",
    "\n",
    "def xkcd_line(x, y, xlim=None, ylim=None,\n",
    "              mag=1.0, f1=30, f2=0.05, f3=15):\n",
    "    \"\"\"\n",
    "    Mimic a hand-drawn line from (x, y) data\n",
    "\n",
    "    Parameters\n",
    "    ----------\n",
    "    x, y : array_like\n",
    "        arrays to be modified\n",
    "    xlim, ylim : data range\n",
    "        the assumed plot range for the modification.  If not specified,\n",
    "        they will be guessed from the  data\n",
    "    mag : float\n",
    "        magnitude of distortions\n",
    "    f1, f2, f3 : int, float, int\n",
    "        filtering parameters.  f1 gives the size of the window, f2 gives\n",
    "        the high-frequency cutoff, f3 gives the size of the filter\n",
    "    \n",
    "    Returns\n",
    "    -------\n",
    "    x, y : ndarrays\n",
    "        The modified lines\n",
    "    \"\"\"\n",
    "    x = np.asarray(x)\n",
    "    y = np.asarray(y)\n",
    "    \n",
    "    # get limits for rescaling\n",
    "    if xlim is None:\n",
    "        xlim = (x.min(), x.max())\n",
    "    if ylim is None:\n",
    "        ylim = (y.min(), y.max())\n",
    "\n",
    "    if xlim[1] == xlim[0]:\n",
    "        xlim = ylim\n",
    "        \n",
    "    if ylim[1] == ylim[0]:\n",
    "        ylim = xlim\n",
    "\n",
    "    # scale the data\n",
    "    x_scaled = (x - xlim[0]) * 1. / (xlim[1] - xlim[0])\n",
    "    y_scaled = (y - ylim[0]) * 1. / (ylim[1] - ylim[0])\n",
    "\n",
    "    # compute the total distance along the path\n",
    "    dx = x_scaled[1:] - x_scaled[:-1]\n",
    "    dy = y_scaled[1:] - y_scaled[:-1]\n",
    "    dist_tot = np.sum(np.sqrt(dx * dx + dy * dy))\n",
    "\n",
    "    # number of interpolated points is proportional to the distance\n",
    "    Nu = int(200 * dist_tot)\n",
    "    u = np.arange(-1, Nu + 1) * 1. / (Nu - 1)\n",
    "\n",
    "    # interpolate curve at sampled points\n",
    "    k = min(3, len(x) - 1)\n",
    "    res = interpolate.splprep([x_scaled, y_scaled], s=0, k=k)\n",
    "    x_int, y_int = interpolate.splev(u, res[0]) \n",
    "\n",
    "    # we'll perturb perpendicular to the drawn line\n",
    "    dx = x_int[2:] - x_int[:-2]\n",
    "    dy = y_int[2:] - y_int[:-2]\n",
    "    dist = np.sqrt(dx * dx + dy * dy)\n",
    "\n",
    "    # create a filtered perturbation\n",
    "    coeffs = mag * np.random.normal(0, 0.01, len(x_int) - 2)\n",
    "    b = signal.firwin(f1, f2 * dist_tot, window=('kaiser', f3))\n",
    "    response = signal.lfilter(b, 1, coeffs)\n",
    "\n",
    "    x_int[1:-1] += response * dy / dist\n",
    "    y_int[1:-1] += response * dx / dist\n",
    "\n",
    "    # un-scale data\n",
    "    x_int = x_int[1:-1] * (xlim[1] - xlim[0]) + xlim[0]\n",
    "    y_int = y_int[1:-1] * (ylim[1] - ylim[0]) + ylim[0]\n",
    "    \n",
    "    return x_int, y_int\n",
    "\n",
    "\n",
    "def XKCDify(ax, mag=1.0,\n",
    "            f1=50, f2=0.01, f3=15,\n",
    "            bgcolor='w',\n",
    "            xaxis_loc=None,\n",
    "            yaxis_loc=None,\n",
    "            xaxis_arrow='+',\n",
    "            yaxis_arrow='+',\n",
    "            ax_extend=0.1,\n",
    "            expand_axes=False):\n",
    "    \"\"\"Make axis look hand-drawn\n",
    "\n",
    "    This adjusts all lines, text, legends, and axes in the figure to look\n",
    "    like xkcd plots.  Other plot elements are not modified.\n",
    "    \n",
    "    Parameters\n",
    "    ----------\n",
    "    ax : Axes instance\n",
    "        the axes to be modified.\n",
    "    mag : float\n",
    "        the magnitude of the distortion\n",
    "    f1, f2, f3 : int, float, int\n",
    "        filtering parameters.  f1 gives the size of the window, f2 gives\n",
    "        the high-frequency cutoff, f3 gives the size of the filter\n",
    "    xaxis_loc, yaxis_log : float\n",
    "        The locations to draw the x and y axes.  If not specified, they\n",
    "        will be drawn from the bottom left of the plot\n",
    "    xaxis_arrow, yaxis_arrow : str\n",
    "        where to draw arrows on the x/y axes.  Options are '+', '-', '+-', or ''\n",
    "    ax_extend : float\n",
    "        How far (fractionally) to extend the drawn axes beyond the original\n",
    "        axes limits\n",
    "    expand_axes : bool\n",
    "        if True, then expand axes to fill the figure (useful if there is only\n",
    "        a single axes in the figure)\n",
    "    \"\"\"\n",
    "    # Get axes aspect\n",
    "    ext = ax.get_window_extent().extents\n",
    "    aspect = (ext[3] - ext[1]) / (ext[2] - ext[0])\n",
    "\n",
    "    xlim = ax.get_xlim()\n",
    "    ylim = ax.get_ylim()\n",
    "\n",
    "    xspan = xlim[1] - xlim[0]\n",
    "    yspan = ylim[1] - xlim[0]\n",
    "\n",
    "    xax_lim = (xlim[0] - ax_extend * xspan,\n",
    "               xlim[1] + ax_extend * xspan)\n",
    "    yax_lim = (ylim[0] - ax_extend * yspan,\n",
    "               ylim[1] + ax_extend * yspan)\n",
    "\n",
    "    if xaxis_loc is None:\n",
    "        xaxis_loc = ylim[0]\n",
    "\n",
    "    if yaxis_loc is None:\n",
    "        yaxis_loc = xlim[0]\n",
    "\n",
    "    # Draw axes\n",
    "    xaxis = plt.Line2D([xax_lim[0], xax_lim[1]], [xaxis_loc, xaxis_loc],\n",
    "                      linestyle='-', color='k')\n",
    "    yaxis = plt.Line2D([yaxis_loc, yaxis_loc], [yax_lim[0], yax_lim[1]],\n",
    "                      linestyle='-', color='k')\n",
    "\n",
    "    # Label axes3, 0.5, 'hello', fontsize=14)\n",
    "    ax.text(xax_lim[1], xaxis_loc - 0.02 * yspan, ax.get_xlabel(),\n",
    "            fontsize=14, ha='right', va='top', rotation=12)\n",
    "    ax.text(yaxis_loc - 0.02 * xspan, yax_lim[1], ax.get_ylabel(),\n",
    "            fontsize=14, ha='right', va='top', rotation=78)\n",
    "    ax.set_xlabel('')\n",
    "    ax.set_ylabel('')\n",
    "\n",
    "    # Add title\n",
    "    ax.text(0.5 * (xax_lim[1] + xax_lim[0]), yax_lim[1],\n",
    "            ax.get_title(),\n",
    "            ha='center', va='bottom', fontsize=16)\n",
    "    ax.set_title('')\n",
    "\n",
    "    Nlines = len(ax.lines)\n",
    "    lines = [xaxis, yaxis] + [ax.lines.pop(0) for i in range(Nlines)]\n",
    "\n",
    "    for line in lines:\n",
    "        x, y = line.get_data()\n",
    "\n",
    "        x_int, y_int = xkcd_line(x, y, xlim, ylim,\n",
    "                                 mag, f1, f2, f3)\n",
    "\n",
    "        # create foreground and background line\n",
    "        lw = line.get_linewidth()\n",
    "        line.set_linewidth(2 * lw)\n",
    "        line.set_data(x_int, y_int)\n",
    "\n",
    "        # don't add background line for axes\n",
    "        if (line is not xaxis) and (line is not yaxis):\n",
    "            line_bg = plt.Line2D(x_int, y_int, color=bgcolor,\n",
    "                                linewidth=8 * lw)\n",
    "\n",
    "            ax.add_line(line_bg)\n",
    "        ax.add_line(line)\n",
    "\n",
    "    # Draw arrow-heads at the end of axes lines\n",
    "    arr1 = 0.03 * np.array([-1, 0, -1])\n",
    "    arr2 = 0.02 * np.array([-1, 0, 1])\n",
    "\n",
    "    arr1[::2] += np.random.normal(0, 0.005, 2)\n",
    "    arr2[::2] += np.random.normal(0, 0.005, 2)\n",
    "\n",
    "    x, y = xaxis.get_data()\n",
    "    if '+' in str(xaxis_arrow):\n",
    "        ax.plot(x[-1] + arr1 * xspan * aspect,\n",
    "                y[-1] + arr2 * yspan,\n",
    "                color='k', lw=2)\n",
    "    if '-' in str(xaxis_arrow):\n",
    "        ax.plot(x[0] - arr1 * xspan * aspect,\n",
    "                y[0] - arr2 * yspan,\n",
    "                color='k', lw=2)\n",
    "\n",
    "    x, y = yaxis.get_data()\n",
    "    if '+' in str(yaxis_arrow):\n",
    "        ax.plot(x[-1] + arr2 * xspan * aspect,\n",
    "                y[-1] + arr1 * yspan,\n",
    "                color='k', lw=2)\n",
    "    if '-' in str(yaxis_arrow):\n",
    "        ax.plot(x[0] - arr2 * xspan * aspect,\n",
    "                y[0] - arr1 * yspan,\n",
    "                color='k', lw=2)\n",
    "\n",
    "    # Change all the fonts to humor-sans.\n",
    "    prop = fm.FontProperties(fname='Humor-Sans.ttf', size=16)\n",
    "    for text in ax.texts:\n",
    "        text.set_fontproperties(prop)\n",
    "    \n",
    "    # modify legend\n",
    "    leg = ax.get_legend()\n",
    "    if leg is not None:\n",
    "        leg.set_frame_on(False)\n",
    "        \n",
    "        for child in leg.get_children():\n",
    "            if isinstance(child, plt.Line2D):\n",
    "                x, y = child.get_data()\n",
    "                child.set_data(xkcd_line(x, y, mag=10, f1=100, f2=0.001))\n",
    "                child.set_linewidth(2 * child.get_linewidth())\n",
    "            if isinstance(child, plt.Text):\n",
    "                child.set_fontproperties(prop)\n",
    "    \n",
    "    # Set the axis limits\n",
    "    ax.set_xlim(xax_lim[0] - 0.1 * xspan,\n",
    "                xax_lim[1] + 0.1 * xspan)\n",
    "    ax.set_ylim(yax_lim[0] - 0.1 * yspan,\n",
    "                yax_lim[1] + 0.1 * yspan)\n",
    "\n",
    "    # adjust the axes\n",
    "    ax.set_xticks([])\n",
    "    ax.set_yticks([])      \n",
    "\n",
    "    if expand_axes:\n",
    "        ax.figure.set_facecolor(bgcolor)\n",
    "        ax.set_axis_off()\n",
    "        ax.set_position([0, 0, 1, 1])\n",
    "    \n",
    "    return ax"
   ]
  },
  {
   "cell_type": "code",
   "execution_count": null,
   "metadata": {
    "collapsed": false
   },
   "outputs": [],
   "source": [
    "np.random.seed(0)\n",
    "\n",
    "ax = pylab.axes()\n",
    "\n",
    "x = np.linspace(0, 10, 100)\n",
    "ax.plot(x, np.sin(x) * np.exp(-0.1 * (x - 5) ** 2), 'b', lw=1, label='damped sine')\n",
    "ax.plot(x, -np.cos(x) * np.exp(-0.1 * (x - 5) ** 2), 'r', lw=1, label='damped cosine')\n",
    "\n",
    "ax.set_title('check it out!')\n",
    "ax.set_xlabel('x label')\n",
    "ax.set_ylabel('y label')\n",
    "\n",
    "ax.legend(loc='lower right')\n",
    "\n",
    "ax.set_xlim(0, 10)\n",
    "ax.set_ylim(-1.0, 1.0)\n",
    "\n",
    "#XKCDify the axes -- this operates in-place\n",
    "XKCDify(ax, xaxis_loc=0.0, yaxis_loc=1.0,\n",
    "        xaxis_arrow='+-', yaxis_arrow='+-',\n",
    "        expand_axes=True);"
   ]
  },
  {
   "cell_type": "markdown",
   "metadata": {},
   "source": [
    "## [Grammar of Graphics](#Topics)"
   ]
  },
  {
   "cell_type": "markdown",
   "metadata": {},
   "source": [
    "From the introduction to _Grammar of Graphics_:\n",
    "> Grammar gives language rules. The word stems from the Greek noun for letter or mark ($\\gamma\\rho\\acute\\alpha\\mu\\mu\\alpha$). And that derives from the Greek verb for writing ($\\gamma\\rho\\acute\\alpha\\phi\\omega$), which is the source of our English word **graph**. Grammar means, more generally, rules for art and science. . .  \n",
    "\n",
    "> . . . The grammar of graphics takes us beyond a limited set of charts (words) to an almost unlimited world of graphical forms (statements). The rules of graphics grammar are sometimes mathematical and sometimes aesthetic. . . .  \n",
    "\n",
    "> We often call graphics **charts** . . . charts are usually instances of much more general objects. Once we understand that a pie is a divided bar in polar coordinates, we can construct other polar graphics that are less well known. We will also come to realize why a histogram is not a bar chart and why many other graphics that look similar nevertheless have different grammars."
   ]
  },
  {
   "cell_type": "markdown",
   "metadata": {},
   "source": [
    "## [`ggplot2`](#Topics)\n",
    "\n",
    "Notice that by itself, the [`ggplot`](http://docs.ggplot2.org/current/) function doesn't actually plot anything:"
   ]
  },
  {
   "cell_type": "code",
   "execution_count": null,
   "metadata": {
    "collapsed": false
   },
   "outputs": [],
   "source": [
    "%%R\n",
    "library(ggplot2)\n",
    "pie <- ggplot(mtcars, aes(x = factor(1), fill = factor(cyl)))"
   ]
  },
  {
   "cell_type": "markdown",
   "metadata": {},
   "source": [
    "The graphics are built up through statements such as [`geom_bar`](http://docs.ggplot2.org/current/geom_bar.html):"
   ]
  },
  {
   "cell_type": "code",
   "execution_count": null,
   "metadata": {
    "collapsed": false
   },
   "outputs": [],
   "source": [
    "%%R\n",
    "pie <- pie + geom_bar(width = 1)\n",
    "pie"
   ]
  },
  {
   "cell_type": "markdown",
   "metadata": {},
   "source": [
    "These are then transformed by statements like [`coord_polar`](http://docs.ggplot2.org/current/coord_polar.html):"
   ]
  },
  {
   "cell_type": "code",
   "execution_count": null,
   "metadata": {
    "collapsed": false
   },
   "outputs": [],
   "source": [
    "%%R\n",
    "pie + coord_polar(theta = \"y\")"
   ]
  },
  {
   "cell_type": "markdown",
   "metadata": {},
   "source": [
    "Thanks to the folks at [Yhat](http://blog.yhathq.com/posts/ggplot-for-python.html), we have a port of [`ggplot`](https://ggplot.yhathq.com/) in Python:\n",
    "```bash\n",
    "pip install ggplot\n",
    "```"
   ]
  },
  {
   "cell_type": "code",
   "execution_count": null,
   "metadata": {
    "collapsed": false
   },
   "outputs": [],
   "source": [
    "%%R\n",
    "ggplot(mtcars, aes(mpg, qsec)) +\n",
    "  geom_point(colour='steelblue', size=3) +\n",
    "  scale_x_continuous(breaks=c(10,20,30), \n",
    "                     labels=c(\"horrible\", \"ok\", \"awesome\"))"
   ]
  },
  {
   "cell_type": "code",
   "execution_count": null,
   "metadata": {
    "collapsed": false
   },
   "outputs": [],
   "source": [
    "from ggplot import *\n",
    "ggplot(mtcars, aes('mpg', 'qsec')) + \\\n",
    "    geom_point(colour='steelblue', size=30) + \\\n",
    "    scale_x_continuous(breaks=[10,20,30], \n",
    "                       labels=[\"horrible\", \"ok\", \"awesome\"])"
   ]
  },
  {
   "cell_type": "markdown",
   "metadata": {},
   "source": [
    "Unfortunately, not all of `ggplot2`'s functions have been ported to `ggplot`:"
   ]
  },
  {
   "cell_type": "code",
   "execution_count": null,
   "metadata": {
    "collapsed": false
   },
   "outputs": [],
   "source": [
    "pie = ggplot(mtcars, aes(x = 1, fill = 'factor(cyl)')) + geom_bar(width = 1)\n",
    "pie + coord_polar(theta = \"y\")"
   ]
  },
  {
   "cell_type": "markdown",
   "metadata": {},
   "source": [
    "***You probably shouldn't be doing pie charts anyway.***\n",
    "\n",
    "One of the problems with python's `ggplot` (besides the fact that it's incomplete) is that it isn't very *[pythonic](http://python.net/~goodger/projects/pycon/2007/idiomatic/handout.html)*.  \n",
    "...enter:\n",
    "\n",
    "## [`seaborn`](#Topics)\n",
    "\n",
    "We like [Seaborn](http://stanford.edu/~mwaskom/software/seaborn/) because it is Pythonic and it is a direct extention of `matplotlib`. Importing `plt` from `seaborn` is essentially a \"monky patch\" of `matplotlib.pyplot`. It replaces defaults with ones more aesthetically pleasing, but it doesn't actually change the grammar: "
   ]
  },
  {
   "cell_type": "code",
   "execution_count": null,
   "metadata": {
    "collapsed": false
   },
   "outputs": [],
   "source": [
    "from seaborn import plt"
   ]
  },
  {
   "cell_type": "code",
   "execution_count": null,
   "metadata": {
    "collapsed": false
   },
   "outputs": [],
   "source": [
    "plot(mtcars.wt, mtcars.mpg, 'o')                # plot data\n",
    "plot(mtcars.wt, mtcars.wt * slope + intercept)  # plot line\n",
    "title(\"Regression of MPG on Weight\")            # add title and labels\n",
    "xlabel('wt'); ylabel('mpg');"
   ]
  },
  {
   "cell_type": "markdown",
   "metadata": {},
   "source": [
    "But `seaborn` has it's own set of statistical visualization functions such as `lmplot`:"
   ]
  },
  {
   "cell_type": "code",
   "execution_count": null,
   "metadata": {
    "collapsed": true
   },
   "outputs": [],
   "source": [
    "import seaborn as sns"
   ]
  },
  {
   "cell_type": "code",
   "execution_count": null,
   "metadata": {
    "collapsed": false
   },
   "outputs": [],
   "source": [
    "sns.lmplot('wt', 'mpg', mtcars)"
   ]
  },
  {
   "cell_type": "markdown",
   "metadata": {},
   "source": [
    "See http://stanford.edu/~mwaskom/software/seaborn/tutorial.html for more examples.\n",
    "\n",
    "## [Bokeh](#Topics)\n",
    "```bash\n",
    "conda install bokeh\n",
    "```\n",
    "Bokeh is (yet) another attempt at creating a grammar of graphics for Python. Unlike `ggplot`, it is not a port, but is built from the ground up as a Python library. Unlike `seaborn`, it does not attempt compatibility with `matplotlib` but rather attempts a whole new approach to data visualization.\n",
    "\n",
    "Also unlike `seaborn`, it is more general purpose (while `seaborn` is optimized for statistical visualization)."
   ]
  },
  {
   "cell_type": "code",
   "execution_count": null,
   "metadata": {
    "collapsed": false
   },
   "outputs": [],
   "source": [
    "from bokeh.plotting import figure, output_notebook, show\n",
    "\n",
    "# prepare some data\n",
    "x = [1, 2, 3, 4, 5]\n",
    "y = [6, 7, 2, 4, 5]\n",
    "\n",
    "# output to the notebook\n",
    "output_notebook()\n",
    "\n",
    "# Plot a `line` renderer setting the color, line thickness, title, and legend value.\n",
    "p = figure(title=\"simple line example\")\n",
    "p.line(x, y, legend=\"Temp.\", x_axis_label='x', y_axis_label='y')\n",
    "\n",
    "show(p)"
   ]
  },
  {
   "cell_type": "markdown",
   "metadata": {},
   "source": [
    "In the above cell, we told `bokeh.plotting` that:  \n",
    "1. We want to write our plots to the notebook (and not to a separate file, for example)\n",
    "2. Build a line from our data and add some simple customizations like title, legend and axes labels\n",
    "3. Ask to show the result (important)  \n",
    "\n",
    "Notice in the example below, Bokeh does not have it's own `histogram` function but rather uses the function provided by `numpy`:"
   ]
  },
  {
   "cell_type": "code",
   "execution_count": null,
   "metadata": {
    "collapsed": false
   },
   "outputs": [],
   "source": [
    "import numpy as np\n",
    "\n",
    "# prepare data\n",
    "mu, sigma = 0, 0.5\n",
    "measured = np.random.normal(mu, sigma, 1000)\n",
    "hist, edges = np.histogram(measured, density=True, bins=50)\n",
    "x = np.linspace(-2, 2, 1000)\n",
    "\n",
    "\n",
    "p = figure(title=\"Histogram\", background_fill=\"#E8DDCB\")\n",
    "p.quad(top=hist, bottom=0, left=edges[:-1], right=edges[1:],\n",
    "       fill_color=\"#036564\", line_color=\"#033649\")\n",
    "\n",
    "# customize axes\n",
    "xa, ya = p.axis\n",
    "xa.axis_label = 'x'\n",
    "ya.axis_label = 'Pr(x)'\n",
    "\n",
    "show(p)"
   ]
  },
  {
   "cell_type": "markdown",
   "metadata": {
    "collapsed": true
   },
   "source": [
    "One last example for fun: the double-pendulum animation from [this post](http://jakevdp.github.io/blog/2012/08/18/matplotlib-animation-tutorial/), rendered using the XKCD sketch path:"
   ]
  },
  {
   "cell_type": "code",
   "execution_count": null,
   "metadata": {
    "collapsed": false
   },
   "outputs": [],
   "source": [
    "from IPython.display import HTML\n",
    "url = 'http://jakevdp.github.io/downloads/videos/double_pendulum_xkcd.mp4'\n",
    "HTML('<video controls alt=\"animation\" src=\"{0}\">'.format(url))"
   ]
  },
  {
   "cell_type": "markdown",
   "metadata": {},
   "source": [
    "The code used to create this movie can be downloaded [here](http://jakevdp.github.io/downloads/code/double_pendulum_xkcd.py)"
   ]
  },
  {
   "cell_type": "markdown",
   "metadata": {
    "collapsed": true
   },
   "source": [
    "## Lab\n",
    "\n",
    "1. Go through the basic exercises at http://bokeh.pydata.org/en/latest/tutorial/basic.html\n",
    "2. Pick (at least) one of the topical exercises at http://bokeh.pydata.org/en/latest/tutorial/topical.html\n",
    "3. Try combining techniques from multiple exercises (*e.g.* can you add a hover tool to a grid plot?)\n",
    "\n",
    "You may (or may not) want to replace `output_file` with `output_notebook`. (Sometimes it doesn't render properly in the notebook. You may have better luck outputing to a separate file.)"
   ]
  }
 ],
 "metadata": {
  "kernelspec": {
   "display_name": "Python 2",
   "language": "python",
   "name": "python2"
  },
  "language_info": {
   "codemirror_mode": {
    "name": "ipython",
    "version": 2
   },
   "file_extension": ".py",
   "mimetype": "text/x-python",
   "name": "python",
   "nbconvert_exporter": "python",
   "pygments_lexer": "ipython2",
   "version": "2.7.9"
  }
 },
 "nbformat": 4,
 "nbformat_minor": 0
}
