{
 "metadata": {
  "name": "",
  "signature": "sha256:6113e394391223d689259f6ea378c61aad15fb06ad013ed14b8681708566066c"
 },
 "nbformat": 3,
 "nbformat_minor": 0,
 "worksheets": [
  {
   "cells": [
    {
     "cell_type": "code",
     "collapsed": false,
     "input": [
      "import json\n",
      "import csv"
     ],
     "language": "python",
     "metadata": {},
     "outputs": [],
     "prompt_number": 18
    },
    {
     "cell_type": "code",
     "collapsed": false,
     "input": [
      "json_example = \"\"\"[{u'labels': [], u'updated_at': u'2014-10-01T03:19:55Z', u'locked_until': None, u'received_at': \n",
      "                u'2014-10-01T03:19:55Z', u'id': 136574, u'custom_fields': {u'dm': None, u'emailformdropdown': None, \n",
      "                u'big_team': None, u'mobile': None, u'form_source': None, u'ticket_groups': None, u'priority_support': \n",
      "                None, u'fb_pm': None}, u'subject': u'Undeliverable: Re: Undeliverable: Re: Undeliverable: Re: Undeliverable: \n",
      "                Re: Undeliverable: Re: Undeliverable: Re: Undeliverable: Re: Undeliverable: Re: Undeliverable: Re: \n",
      "                ndeliverable: Re: Undeliverable: Re: Undeliverable: Re: Undeliverable: Re: Undelive', u'changed_at': \n",
      "                u'2014-10-01T03:19:55Z', u'priority': 4, u'opened_at': None, u'active_at': None, u'_links': {u'customer': \n",
      "                {u'href': u'/api/v2/customers/255008486', u'class': u'customer'}, u'locked_by': None, u'attachments': \n",
      "                {u'count': 2, u'href': u'/api/v2/cases/136574/attachments', u'class': u'attachment'}, u'self': \n",
      "                {u'href': u'/api/v2/cases/136574', u'class': u'case'}, u'labels': {u'href': u'/api/v2/cases/136574/labels', \n",
      "                u'class': u'label'}, u'feedbacks': None, u'case_links': {u'href': u'/api/v2/cases/136574/links', u'class': \n",
      "                'case_link'}, u'notes': {u'count': 0, u'href': u'/api/v2/cases/136574/notes', u'class': u'note'}, u'draft': \n",
      "                {u'href': u'/api/v2/cases/136574/replies/draft', u'class': u'reply'}, u'replies': {u'count': 0, u'href': \n",
      "                u'/api/v2/cases/136574/replies', u'class': u'reply'}, u'macro_preview': {u'href': \n",
      "                u'/api/v2/cases/136574/macros/preview', u'class': u'macro_preview'}, u'message': {u'href': \n",
      "                u'/api/v2/cases/136574/message', u'class': u'email'}, u'assigned_user': None, u'assigned_group': \n",
      "                {u'href': u'/api/v2/groups/19411', u'class': u'group'}, u'history': {u'href': u'/api/v2/cases/136574/history', \n",
      "                u'class': u'history'}}, u'type': u'email', u'blurb': u\"Delivery has failed to these recipients or \n",
      "                groups:\\n\\npostmaster@emeryfinancial.com\\nThe e-mail address you entered couldn't be found. \n",
      "                Please check the recipient's e-mail address and try to resend the message. If the problem continues, \n",
      "                please contact yo\", u'status': u'closed', u'first_resolved_at': None, u'description': None, \n",
      "                u'label_ids': [], u'resolved_at': None, u'language': None, u'created_at': u'2014-10-01T03:19:55Z', \n",
      "                u'external_id': None, u'first_opened_at': None}\n",
      "]\"\"\""
     ],
     "language": "python",
     "metadata": {},
     "outputs": [],
     "prompt_number": 19
    },
    {
     "cell_type": "code",
     "collapsed": false,
     "input": [
      "f = open('data.csv')"
     ],
     "language": "python",
     "metadata": {},
     "outputs": [],
     "prompt_number": 20
    },
    {
     "cell_type": "code",
     "collapsed": false,
     "input": [
      "csv_file = csv.writer(f)"
     ],
     "language": "python",
     "metadata": {},
     "outputs": [],
     "prompt_number": 21
    },
    {
     "cell_type": "code",
     "collapsed": false,
     "input": [
      "for entry in json_example:\n",
      "    f.writerow(json_example[u'lables'], json_example[u'updated_at'], json_example[u'locked_until'], \n",
      "               json_example[u'received_at'])"
     ],
     "language": "python",
     "metadata": {},
     "outputs": [
      {
       "ename": "AttributeError",
       "evalue": "'file' object has no attribute 'writerow'",
       "output_type": "pyerr",
       "traceback": [
        "\u001b[0;31m---------------------------------------------------------------------------\u001b[0m\n\u001b[0;31mAttributeError\u001b[0m                            Traceback (most recent call last)",
        "\u001b[0;32m<ipython-input-22-9c192f9718f8>\u001b[0m in \u001b[0;36m<module>\u001b[0;34m()\u001b[0m\n\u001b[1;32m      1\u001b[0m \u001b[0;32mfor\u001b[0m \u001b[0mentry\u001b[0m \u001b[0;32min\u001b[0m \u001b[0mjson_example\u001b[0m\u001b[0;34m:\u001b[0m\u001b[0;34m\u001b[0m\u001b[0m\n\u001b[0;32m----> 2\u001b[0;31m     f.writerow(json_example[u'lables'], json_example[u'updated_at'], json_example[u'locked_until'], \n\u001b[0m\u001b[1;32m      3\u001b[0m                json_example[u'received_at'])\n",
        "\u001b[0;31mAttributeError\u001b[0m: 'file' object has no attribute 'writerow'"
       ]
      }
     ],
     "prompt_number": 22
    },
    {
     "cell_type": "code",
     "collapsed": false,
     "input": [],
     "language": "python",
     "metadata": {},
     "outputs": []
    }
   ],
   "metadata": {}
  }
 ]
}